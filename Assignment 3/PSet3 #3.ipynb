{
 "cells": [
  {
   "cell_type": "markdown",
   "id": "f5dab7f2-e6ee-488f-afbd-80ad2231bccc",
   "metadata": {},
   "source": [
    "#Problem Set 3 Q3"
   ]
  },
  {
   "cell_type": "markdown",
   "id": "96eba466-197f-4d40-8f4e-0a92c3e0c2d6",
   "metadata": {},
   "source": [
    "###First define a data generation process"
   ]
  },
  {
   "cell_type": "code",
   "execution_count": 5,
   "id": "f4393217-d636-45d6-a11f-f0f8d9cb8464",
   "metadata": {},
   "outputs": [
    {
     "name": "stdout",
     "output_type": "stream",
     "text": [
      "15\n"
     ]
    }
   ],
   "source": [
    "#Import various packages from other iterations of code in class\n",
    "import numpy as np\n",
    "from numpy.linalg import inv\n",
    "import scipy.stats as stats\n",
    "import pandas as pd\n",
    "from scipy.stats import distributions as iid\n",
    "import matplotlib.pyplot as plt\n",
    "from scipy.optimize import minimize\n",
    "from scipy.stats import logistic\n",
    "\n",
    "#Double factorial found online -import the factorial2 function\n",
    "from scipy.special import factorial2\n",
    "\n",
    "#test - works\n",
    "print(factorial2(5, exact=True))"
   ]
  },
  {
   "cell_type": "code",
   "execution_count": 6,
   "id": "13c85a8f-96d4-4d0e-a9e3-00169c6354c6",
   "metadata": {},
   "outputs": [],
   "source": [
    "#First define g_j - we feed in a desired sigma and mu for a given distribution (data) specifying k moments (vs ethan's code which had b, y, x, Z)\n",
    "def g_j(mu, sigma, data, k):\n",
    "    gj=np.zeros(k)\n",
    "    #we need to impose the different conditions given if i is odd or even\n",
    "    for i in range(1, k+1):\n",
    "        #odd condition - remainder of i/2 is not zero\n",
    "        if i%2 !=0: \n",
    "            gj[i]=(data-mu)**i\n",
    "        #even condition - remainder of i/2 is zero\n",
    "        if i%2 ==0: \n",
    "            gj[i]=(data-mu)**i - sigma**i*factorial2(i-1)\n",
    "    return gj"
   ]
  },
  {
   "cell_type": "code",
   "execution_count": 7,
   "id": "c68c1e6b-8659-419d-a71f-15128c1b1876",
   "metadata": {},
   "outputs": [],
   "source": [
    "#Second define g_n\n",
    "def g_N(sigma, mu, data, k):\n",
    "    # get individual moments\n",
    "    moments = g_j(sigma, mu, data, k)\n",
    "    # take mean\n",
    "    gN = moments.mean(axis=0)\n",
    "    return gN"
   ]
  },
  {
   "cell_type": "code",
   "execution_count": 10,
   "id": "6fc3ef13-0c69-44c8-b15e-a68eaedbd118",
   "metadata": {},
   "outputs": [
    {
     "ename": "SyntaxError",
     "evalue": "invalid syntax (2210501624.py, line 16)",
     "output_type": "error",
     "traceback": [
      "\u001b[0;36m  File \u001b[0;32m\"/var/folders/s1/z85147893dvbv8psxpshc4p40000gn/T/ipykernel_28743/2210501624.py\"\u001b[0;36m, line \u001b[0;32m16\u001b[0m\n\u001b[0;31m    minimizer2 = minimize(lambda a: J(mu_hat, sigma_hat, invOmega_hat, data), x0 = sigma_hat, method = 'Nelder-Mead')\u001b[0m\n\u001b[0m    ^\u001b[0m\n\u001b[0;31mSyntaxError\u001b[0m\u001b[0;31m:\u001b[0m invalid syntax\n"
     ]
    }
   ],
   "source": [
    "#Adapted from Lucy's code - gmm\n",
    "def twostepgmm(mu, sigma, data, k):\n",
    "    # Step 1: Guess Omega.\n",
    "    Omega_guess = np.eye(len(data))\n",
    "\n",
    "    # Step 2: Minimize J using our guess. \n",
    "    # We're bringing back our old friend, the minimize function!\n",
    "    minimizer = minimize(lambda a: J(mu, sigma, Omega_guess, data), x0 = [0.5,0.5], method = 'Nelder-Mead')\n",
    "    mu_hat = minimizer.x[0]\n",
    "    sigma_hat = minimizer.x[1]\n",
    "    \n",
    "    # Step 3: Update Omega\n",
    "    invOmega_hat = invOmega(tuple(mu_hat, sigma_hat), data \n",
    "\n",
    "    # Step 4: re-run with omega_hat. May as well use our current mu and sigma_hats as new starting point - breaks here for some reason?\n",
    "    minimizer2 = minimize(lambda a: J(mu_hat, sigma_hat, invOmega_hat, data), x0 = sigma_hat, method = 'Nelder-Mead')\n",
    "    return mu_hat, sigma_hat, invOmega_hat\n",
    "\n",
    "#need to get only the J statistic from here?"
   ]
  },
  {
   "cell_type": "code",
   "execution_count": null,
   "id": "cdcc7375-c60d-496e-a3d0-8ff6f6f2dc45",
   "metadata": {},
   "outputs": [],
   "source": [
    "#Define a function that takes data and number of moments in and calculates a p-value based on j-statistic\n",
    "def normaltest(mu, sigma, data, k):\n",
    "    Jstat=twostepgmm(mu, sigma, data, k)\n",
    "    pval=1-iid.chi2.cdf(x=Jstat, df=(k-2))\n",
    "    return pval"
   ]
  },
  {
   "cell_type": "markdown",
   "id": "e1ed04f8-c822-427e-b326-ef4ef359423f",
   "metadata": {},
   "source": [
    "###Test data"
   ]
  },
  {
   "cell_type": "code",
   "execution_count": null,
   "id": "b17d334a-43bc-4ac5-9724-f73425d63f0a",
   "metadata": {},
   "outputs": [],
   "source": [
    "#Normal distribution for testing - this should work\n",
    "normal= iid.norm.rvs(loc=5, scale=10, size=100)\n",
    "\n",
    "#logistic distribution - should NOT work\n",
    "logistic=logistic.rvs(size=100)\n",
    "\n",
    "#Plot histograms to confirm we have the distributions we want\n",
    "_=plt.hist(normal, bins='auto')\n",
    "plt.title(\"Histogram for normal distribution\")\n",
    "plt.show()\n",
    "          \n",
    "_=plt.hist(logistic, bins='auto')\n",
    "plt.title(\"Histogram for logistic distribution\")\n",
    "plt.show()"
   ]
  },
  {
   "cell_type": "code",
   "execution_count": null,
   "id": "f4c14698-6bbe-4d54-9208-442189887b97",
   "metadata": {},
   "outputs": [],
   "source": [
    "#run tests\n",
    "print(\"Tests on normal distribution\") \n",
    "print(normaltest(normal, 3))  \n",
    "print(normaltest(normal, 4))\n",
    "print(normaltest(normal, 5))\n",
    "print(\"Tests on logistic distribution\")\n",
    "print(normaltest(logistic, 3))  \n",
    "print(normaltest(logistic, 4))\n",
    "print(normaltest(logistic, 5))"
   ]
  }
 ],
 "metadata": {
  "kernelspec": {
   "display_name": "Python 3 (ipykernel)",
   "language": "python",
   "name": "python3"
  },
  "language_info": {
   "codemirror_mode": {
    "name": "ipython",
    "version": 3
   },
   "file_extension": ".py",
   "mimetype": "text/x-python",
   "name": "python",
   "nbconvert_exporter": "python",
   "pygments_lexer": "ipython3",
   "version": "3.9.13"
  }
 },
 "nbformat": 4,
 "nbformat_minor": 5
}
