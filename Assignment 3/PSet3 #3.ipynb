{
 "cells": [
  {
   "cell_type": "markdown",
   "id": "f5dab7f2-e6ee-488f-afbd-80ad2231bccc",
   "metadata": {},
   "source": [
    "#Problem Set 3 Q3"
   ]
  },
  {
   "cell_type": "markdown",
   "id": "780a5e2c-196f-4442-9f49-e04a0f966564",
   "metadata": {},
   "source": [
    "###Data Generating Process (Adapted from Ethan's Code)"
   ]
  },
  {
   "cell_type": "code",
   "execution_count": null,
   "id": "1c3026dd-c5a4-4b35-bacf-2c4a8daf71eb",
   "metadata": {},
   "outputs": [],
   "source": [
    "import numpy as np\n",
    "from numpy.linalg import inv\n",
    "import scipy.stats as stats\n",
    "\n",
    "## Play with us!\n",
    "beta = 1     # \"Coefficient of interest\"\n",
    "gamma = 1    # Governs effect of u on X\n",
    "sigma_u = 1  # Note assumption of homoskedasticity\n",
    "## Play with us!\n",
    "\n",
    "# Let Z have order ell, and X order 1, with Var([X,Z]|u)=VXZ\n",
    "\n",
    "ell = 4 # Play with me too!\n",
    "\n",
    "# Arbitrary (but deterministic) choice for VXZ = [VX Cov(X,Z);\n",
    "#                                                 Cov(Z,X) VZ]\n",
    "# Pinned down by choice of a matrix A...\n",
    "A = np.sqrt(1/np.arange(1,(ell+1)**2+1)).reshape((ell+1,ell+1)) \n",
    "\n",
    "## Below here we're less playful.\n",
    "\n",
    "# Now Var([X,Z]|u) is constructed so guaranteed pos. def.\n",
    "VXZ = A.T@A \n",
    "\n",
    "Q = -VXZ[1:,[0]]  # -EZX', or generally Edgj/db'\n",
    "\n",
    "# Gimme some truth:\n",
    "truth = (beta,gamma,sigma_u,VXZ)\n",
    "\n",
    "## But play with Omega if you want to introduce heteroskedascity\n",
    "Omega = (sigma_u**2)*VXZ[1:,1:] # E(Zu)(u'Z')\n",
    "\n",
    "# Asymptotic variance of optimally weighted GMM estimator:\n",
    "AVar_b = inv(Q.T@inv(Omega)@Q)\n",
    "\n",
    "AVar_b"
   ]
  },
  {
   "cell_type": "markdown",
   "id": "1d34aefa-3274-4e9c-b8f3-183700528741",
   "metadata": {},
   "source": [
    "Now code to generate $N$ realizations of $(y,X,Z)$ given some &ldquo;truth&rdquo;\n",
    "`(beta,gamma,sigma_u,VXZ)`:"
   ]
  },
  {
   "cell_type": "code",
   "execution_count": null,
   "id": "cdb1445e-a32e-4f46-9e6c-f3773bf0e42b",
   "metadata": {
    "tags": []
   },
   "outputs": [],
   "source": [
    "from scipy.stats import distributions as iid\n",
    "\n",
    "def dgp(N,beta,gamma,sigma_u,VXZ):\n",
    "    \"\"\"Generate a tuple of (y,X,Z).\n",
    "\n",
    "    Satisfies model:\n",
    "        y = X@beta + u\n",
    "        E Z'u = 0\n",
    "        Var(u) = sigma^2\n",
    "        Cov(X,u) = gamma*sigma_u^2\n",
    "        Var([X,Z]|u) = VXZ\n",
    "        u,X,Z mean zero, Gaussian\n",
    "\n",
    "    Each element of the tuple is an array of N observations.\n",
    "\n",
    "    Inputs include\n",
    "    - beta :: the coefficient of interest\n",
    "    - gamma :: linear effect of disturbance on X\n",
    "    - sigma_u :: Variance of disturbance\n",
    "    - VXZ :: Var([X,Z]|u)\n",
    "    \"\"\"\n",
    "    \n",
    "    u = iid.norm.rvs(size=(N,1))*sigma_u\n",
    "\n",
    "    # \"Square root\" of VXZ via eigendecomposition\n",
    "    lbda,v = np.linalg.eig(VXZ)\n",
    "    SXZ = v@np.diag(np.sqrt(lbda))\n",
    "\n",
    "    # Generate normal random variates [X*,Z]\n",
    "    XZ = iid.norm.rvs(size=(N,VXZ.shape[0]))@SXZ.T\n",
    "\n",
    "    # But X is endogenous...\n",
    "    X = XZ[:,[0]] + gamma*u\n",
    "    Z = XZ[:,1:]\n",
    "\n",
    "    # Calculate y\n",
    "    y = X*beta + u\n",
    "\n",
    "    return y,X,Z"
   ]
  },
  {
   "cell_type": "markdown",
   "id": "4c277218-16fa-47c3-97ff-d3f753a8fdbc",
   "metadata": {},
   "source": [
    "#Estimation"
   ]
  },
  {
   "cell_type": "code",
   "execution_count": null,
   "id": "82261c89-8aa8-4d99-8fa7-a474e00b4d7f",
   "metadata": {},
   "outputs": [],
   "source": [
    "import numpy as np\n",
    "from numpy.linalg import inv\n",
    "\n",
    "def gj(b,y,X,Z):\n",
    "    \"\"\"Observations of g_j(b).\n",
    "\n",
    "    This defines the deviations from the predictions of our model; i.e.,\n",
    "    e_j = Z_ju_j, where EZ_ju_j=0.\n",
    "\n",
    "    Can replace this function to testimate a different model.\n",
    "    \"\"\"\n",
    "    return Z*(y - X*b)"
   ]
  },
  {
   "cell_type": "code",
   "execution_count": null,
   "id": "5d650ef4-88f3-4a52-805a-3994159b174a",
   "metadata": {},
   "outputs": [],
   "source": [
    "#Code I found online \n",
    "\n",
    "#general formula for the nth sample moment   \n",
    "def sample_moment(sample, n):       \n",
    "  summed = np.sum([el**n for el in sample])       \n",
    "  length = len(sample)       \n",
    "  return 1/length * summed    \n",
    "#function to estimate parameters k and theta   \n",
    "def estimate_pars(sample):       \n",
    "  m1 = sample_moment(sample, 1)       \n",
    "  m2 = sample_moment(sample, 2)       \n",
    "  k = m1**2/(m2 - m1**2)       \n",
    "  theta = m2/m1 - m1       \n",
    "  return k, theta"
   ]
  },
  {
   "cell_type": "markdown",
   "id": "a733a761-76e9-4da0-b23b-e1d09e3da933",
   "metadata": {},
   "source": [
    "Lucy's Code"
   ]
  },
  {
   "cell_type": "code",
   "execution_count": null,
   "id": "94dd5edc-64e3-4b17-bd9e-633214daf60d",
   "metadata": {},
   "outputs": [],
   "source": [
    "# Step 1: The DGP\n",
    "# note that we need 2N\n",
    "def dgp(true_alphas, N):\n",
    "    alpha1, alpha2 = true_alphas\n",
    "    wage = iid.pareto(5).rvs(size=(N,1))\n",
    "    p_1 = iid.norm(10,2).rvs(size=(N,1))\n",
    "    p_2 = iid.gamma(3,2).rvs(size=(N,1)) + 10\n",
    "    \n",
    "    # create x from these draws, with noise\n",
    "    x_1 = (wage/(p_1*alpha1))**(1/(alpha1-1)) + iid.norm(scale=2).rvs(size=(N,1))\n",
    "    x_2 = (wage/(p_2*alpha2))**(1/(alpha2-1)) + iid.norm(scale=2).rvs(size=(N,1))\n",
    "    \n",
    "    return (x_1, x_2, p_1, p_2, wage)"
   ]
  },
  {
   "cell_type": "code",
   "execution_count": null,
   "id": "07ad222e-d647-42a2-8420-1b8cd51dbe42",
   "metadata": {},
   "outputs": [],
   "source": [
    "def generate_distribution(mean, n, k):\n",
    "    # Generate a random distribution using the normal distribution\n",
    "    distribution = stats.norm.rvs(loc=mean, scale=1, size=n)\n",
    "    \n",
    "    # Calculate the  moments\n",
    "    moments = []\n",
    "    for i in range(k):\n",
    "        #for all even moments: E(x-u)^m = s^m (m-1)!! where !! is the double factorial\n",
    "        if i % 2 == 0:\n",
    "            moments.append()\n",
    "        #for all odd moments \n",
    "        else:\n",
    "            moments.append(np.power(distribution, i).mean() - mean ** i\n",
    "                           \n",
    "    return distribution"
   ]
  }
 ],
 "metadata": {
  "kernelspec": {
   "display_name": "Python 3 (ipykernel)",
   "language": "python",
   "name": "python3"
  },
  "language_info": {
   "codemirror_mode": {
    "name": "ipython",
    "version": 3
   },
   "file_extension": ".py",
   "mimetype": "text/x-python",
   "name": "python",
   "nbconvert_exporter": "python",
   "pygments_lexer": "ipython3",
   "version": "3.9.13"
  }
 },
 "nbformat": 4,
 "nbformat_minor": 5
}
