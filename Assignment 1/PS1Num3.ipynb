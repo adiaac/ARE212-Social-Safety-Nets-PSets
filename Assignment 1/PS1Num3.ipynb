{
 "cells": [
  {
   "cell_type": "markdown",
   "id": "af6f454a",
   "metadata": {},
   "source": [
    "### Number 3\n",
    "(i) As in the notebook, consider a discrete random variable s and a continuous random variable x. Prove that the convolution of s and x (or, informally, x+s) has a continuous distribution, as suggested by the figure at the end of the notebook, or establish that the figure is wrong or misleading."
   ]
  },
  {
   "cell_type": "markdown",
   "id": "0db3c2a0",
   "metadata": {},
   "source": [
    "- The figure produced by the code shows the probability density function of y for a range of values of z. The density function appears smooth and continuous, indicating that y has a density function, and therefore, it is continuous.\n",
    "\n",
    "- Also, x is a continuous random variable, its CDF is a continuous function. Hence, F(z) is a continuous function, and the convolution of s and x has a continuous distribution.\n"
   ]
  },
  {
   "cell_type": "markdown",
   "id": "efd55f1f",
   "metadata": {},
   "source": [
    "(ii) The notebook develops a simple class ConvolvedContinuousAndDiscrete to allow for the creation and manipulations of (you guessed it) convolutions of a continuous rv with a discrete rv. Can you develop a similar class for convolutions of independent discrete random variables?"
   ]
  },
  {
   "cell_type": "code",
   "execution_count": 1,
   "id": "2646efdd",
   "metadata": {},
   "outputs": [],
   "source": [
    "# Importing packages\n",
    "import numpy as np\n",
    "from scipy.stats import distributions as iid"
   ]
  },
  {
   "cell_type": "code",
   "execution_count": 2,
   "id": "65d67110",
   "metadata": {},
   "outputs": [],
   "source": [
    "# Create discrete distribution to feed into the class\n",
    "Omega1 = (-1, 0, 1)\n",
    "Pr1 = (1/3, 1/2, 1/6)\n",
    "Omega2 = (-10, -1, -.5, 0, .3, 1)\n",
    "Pr2 = (1/10, 2/10, 1/10, 3/10, 2/10, 1/10)\n",
    "\n",
    "R = iid.rv_discrete(values=(Omega1, Pr1))\n",
    "S = iid.rv_discrete(values=(Omega2, Pr2))"
   ]
  },
  {
   "cell_type": "code",
   "execution_count": 3,
   "id": "83e8d073",
   "metadata": {},
   "outputs": [],
   "source": [
    "# Code to convolve two discrete random variables\n",
    "class ConvolvedDiscreteAndDiscrete(iid.rv_discrete):\n",
    "    \"\"\"Convolve (add) a discrete rv R and a discrete rv S,\n",
    "       returning the resulting cdf.\"\"\"\n",
    "\n",
    "    def __init__(self,X,Y):\n",
    "        self.X = X\n",
    "        self.Y = Y\n",
    "        super(ConvolvedDiscreteAndDiscrete, self).__init__(name=\"ConvolvedDiscreteAndDiscrete\")\n",
    "\n",
    "    def _pdf(self, z):\n",
    "        \"\"\"calculate the convolved PMF at the given point\"\"\"\n",
    "        f = 0\n",
    "        r = self.rv1\n",
    "        s = self.rv2\n",
    "        for p, val in zip(s.pk, s.xk):\n",
    "            f += p * r.pmf(z - val)\n",
    "        return f\n",
    "\n",
    "    def _cdf(self, z):\n",
    "        \"\"\"calculate the convolved CDF at the given point\"\"\"\n",
    "        F = 0\n",
    "        y = self.Y\n",
    "        x = self.X\n",
    "        for p, val in zip(x.pk, x.xk):\n",
    "            F += p * y.cdf(z - val)\n",
    "        return F\n"
   ]
  },
  {
   "cell_type": "code",
   "execution_count": 4,
   "id": "66d7a105",
   "metadata": {},
   "outputs": [
    {
     "name": "stdout",
     "output_type": "stream",
     "text": [
      "0.7333333333333334 0.3333333333333334\n"
     ]
    }
   ],
   "source": [
    "# Pass the functions of the class to compute the PMF and CDF\n",
    "XplusY = ConvolvedDiscreteAndDiscrete(R, S)\n",
    "print(XplusY.cdf(0), XplusY.pmf(0))"
   ]
  },
  {
   "cell_type": "markdown",
   "id": "c4e35c5a",
   "metadata": {},
   "source": [
    "(iii) Same as (ii), but convolutions of independent continuous random variables?"
   ]
  },
  {
   "cell_type": "code",
   "execution_count": 7,
   "id": "98b9c367",
   "metadata": {},
   "outputs": [],
   "source": [
    "# Importing packages\n",
    "import numpy as np\n",
    "from scipy.stats import distributions as iid"
   ]
  },
  {
   "cell_type": "code",
   "execution_count": 8,
   "id": "4f48a1e5",
   "metadata": {},
   "outputs": [],
   "source": [
    "# Create continuous distribution to feed into the class\n",
    "x = iid.norm()\n",
    "y = iid.norm()"
   ]
  },
  {
   "cell_type": "code",
   "execution_count": 9,
   "id": "0d5a009f",
   "metadata": {},
   "outputs": [],
   "source": [
    "# Code to convolve two discrete random variables\n",
    "class ConvolvedContinuousAndContinuous(iid.rv_continuous):\n",
    "    \"\"\"Convolve (add) two continuous random variables x and y,\n",
    "       returning the resulting cdf.\"\"\"\n",
    "\n",
    "    def __init__(self, x, y):\n",
    "        self.x = x\n",
    "        self.y = y\n",
    "        super(ConvolvedContinuousAndContinuous, self).__init__(name=\"ConvolvedContinuousAndContinuous\")\n",
    "\n",
    "    def _cdf(self, z):\n",
    "        F = 0\n",
    "        x = self.x.cdf(z)\n",
    "        y = self.y.cdf(z)\n",
    "        F = np.convolve(x, y, mode='full')[:len(x)]\n",
    "        return F\n",
    "\n",
    "    def _pdf(self, z):\n",
    "        f = 0\n",
    "        x = self.x.pdf(z)\n",
    "        y = self.y.pdf(z)\n",
    "        f = np.convolve(x, y, mode='full')[:len(x)]\n",
    "        return f\n"
   ]
  },
  {
   "cell_type": "code",
   "execution_count": 10,
   "id": "0f4856d7",
   "metadata": {},
   "outputs": [
    {
     "name": "stdout",
     "output_type": "stream",
     "text": [
      "0.25 0.15915494309189535\n"
     ]
    }
   ],
   "source": [
    "# Pass the functions of the class to compute the PDF and CDF\n",
    "XplusY = ConvolvedContinuousAndContinuous(x, y)\n",
    "print(XplusY.cdf(0), XplusY.pdf(0))"
   ]
  }
 ],
 "metadata": {
  "kernelspec": {
   "display_name": "Python 3 (ipykernel)",
   "language": "python",
   "name": "python3"
  },
  "language_info": {
   "codemirror_mode": {
    "name": "ipython",
    "version": 3
   },
   "file_extension": ".py",
   "mimetype": "text/x-python",
   "name": "python",
   "nbconvert_exporter": "python",
   "pygments_lexer": "ipython3",
   "version": "3.8.16"
  }
 },
 "nbformat": 4,
 "nbformat_minor": 5
}
