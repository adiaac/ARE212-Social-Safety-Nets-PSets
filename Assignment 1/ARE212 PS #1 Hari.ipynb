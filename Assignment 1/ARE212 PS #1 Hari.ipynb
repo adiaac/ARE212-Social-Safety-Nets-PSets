{
 "cells": [
  {
   "cell_type": "markdown",
   "id": "f19c7841",
   "metadata": {},
   "source": [
    "Picking up from the discussion of simultaneous equations above, where y is N x k, and y = Xβ + u. If X is N x l and cov(u|X) = Ω; then this is a generalization of the assumption of homoskedasticity to a multivariate setting; the resulting structure is called a system of Seemingly Unrelated Regressions (SUR)."
   ]
  },
  {
   "cell_type": "markdown",
   "id": "53ab0a6d",
   "metadata": {},
   "source": [
    "(1) If Ω isn't diagonal then there's a sense in which the different equations in the system are dependent, since observing a realization of, say, y1 may change our prediction of y2. (This is why the system is called seemingly unrelated.) Describe this dependence formally.\n",
    "\n",
    "(Answer) If the covariance matrix, Ω, is not diagonal, then the errors in the different equations of the system are correlated. Since the errors in the two equations are no longer independent, observing a realization of y1 may change our prediction of y2. The joint probability density function of the errors, u, is no longer a product of independent normal densities but a multivariate normal density with covariance matrix Ω."
   ]
  },
  {
   "cell_type": "code",
   "execution_count": null,
   "id": "968da17e",
   "metadata": {},
   "outputs": [],
   "source": [
    "#(2) Adapt the code in weighted_regression.ipynb so that the data-generating process for u can accommodate a general covariance matrix such as Ω, and let X = T. Estimate β.\n",
    "\n",
    "\n"
   ]
  },
  {
   "cell_type": "markdown",
   "id": "89d98f5a",
   "metadata": {},
   "source": [
    "(3) How are the estimates obtained from this SUR system different from what one would obtain if one estimated equation by equation using OLS?\n",
    "\n",
    "(Answer) The SUR estimator takes into account the correlation between the errors in the different equations. If we estimated each equation separately using OLS, we would be assuming that the errors are uncorrelated, which would lead to inefficient estimates. The SUR estimator, on the other hand, uses information from all the equations to obtain more efficient estimates. \n",
    "\n"
   ]
  }
 ],
 "metadata": {
  "kernelspec": {
   "display_name": "Python 3 (ipykernel)",
   "language": "python",
   "name": "python3"
  },
  "language_info": {
   "codemirror_mode": {
    "name": "ipython",
    "version": 3
   },
   "file_extension": ".py",
   "mimetype": "text/x-python",
   "name": "python",
   "nbconvert_exporter": "python",
   "pygments_lexer": "ipython3",
   "version": "3.9.12"
  }
 },
 "nbformat": 4,
 "nbformat_minor": 5
}
