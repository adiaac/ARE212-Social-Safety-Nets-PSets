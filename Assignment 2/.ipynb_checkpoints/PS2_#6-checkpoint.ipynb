{
 "cells": [
  {
   "cell_type": "markdown",
   "id": "5f6733a6",
   "metadata": {},
   "source": [
    "# 7. Angrist-Krueger (1991) Replication"
   ]
  },
  {
   "cell_type": "markdown",
   "id": "18c72f8a",
   "metadata": {},
   "source": [
    "To do: \n",
    "\n",
    "    1. # 2 Add year dummies     \n",
    "    2. # 3 Add state dummies \n",
    "    3. # 4 define functions and run  "
   ]
  },
  {
   "cell_type": "markdown",
   "id": "13b33fa5",
   "metadata": {},
   "source": [
    "### 1. Identifying assumption\n",
    "\n",
    "The study **assumes** that the instruments (season of birth interacted with birth years) are valid. This means that variation in education caused by season of birth interacted with birth years can be used to examine the effect of education, which is endogenous to the model, on wages. Thus, the instruments only effect wages through education. In other terms, $$E z'u = 0$$\n"
   ]
  },
  {
   "cell_type": "markdown",
   "id": "5f02e1ca",
   "metadata": {},
   "source": [
    "### 2. TSLS - Figure 5"
   ]
  },
  {
   "cell_type": "code",
   "execution_count": 5,
   "id": "ff632bee",
   "metadata": {},
   "outputs": [],
   "source": [
    "import pandas as pd\n",
    "\n",
    "import numpy as np\n",
    "from scipy import stats\n",
    "from matplotlib import style\n",
    "from matplotlib import pyplot as plt\n",
    "import statsmodels.api as sm\n",
    "import statsmodels.formula.api as smf\n",
    "from linearmodels.iv import IV2SLS\n",
    "\n",
    "%matplotlib inline"
   ]
  },
  {
   "cell_type": "code",
   "execution_count": 8,
   "id": "192b5479",
   "metadata": {},
   "outputs": [],
   "source": [
    "df = pd.read_stata('/Users/rachelhaswell/Documents/Spring 2023/Metrics ARE 212/Problem sets/2nd half/PS2/angrist-krueger91.dta')"
   ]
  },
  {
   "cell_type": "markdown",
   "id": "66c66131",
   "metadata": {},
   "source": [
    "**Column 2**"
   ]
  },
  {
   "cell_type": "markdown",
   "id": "cbc625fe",
   "metadata": {},
   "source": [
    "The excluded instruments from the wage equation in the\n",
    "TSLS estimates are three quarter-of-birth dummies interacted\n",
    "with nine year-of-birth dummies."
   ]
  },
  {
   "cell_type": "code",
   "execution_count": 9,
   "id": "52952a6e",
   "metadata": {},
   "outputs": [],
   "source": [
    "# create quarter and year dummies \n",
    "qob_dummies = pd.get_dummies(df['qob'], prefix='qob')\n",
    "df = pd.concat([df, qob_dummies], axis=1)\n",
    "yob_dummies = pd.get_dummies(df['yob'], prefix='yob')\n",
    "df = pd.concat([df, yob_dummies], axis=1)"
   ]
  },
  {
   "cell_type": "code",
   "execution_count": 44,
   "id": "0545cf82",
   "metadata": {},
   "outputs": [],
   "source": [
    "formula_2 = 'logwage ~ 1 + [edu ~ (qob_1*yob_1930 - qob_1*yob_1939) + (qob_2*yob_1930 - qob_2*yob_1939) + (qob_3*yob_1930 - qob_3*yob_1939) + (yob_1930 - yob_1938)]'\n",
    "mod_2 = IV2SLS.from_formula(formula_2, df).fit(cov_type='unadjusted')"
   ]
  },
  {
   "cell_type": "code",
   "execution_count": 45,
   "id": "3ebba01c",
   "metadata": {
    "scrolled": true
   },
   "outputs": [
    {
     "data": {
      "text/html": [
       "<table class=\"simpletable\">\n",
       "<caption>IV-2SLS Estimation Summary</caption>\n",
       "<tr>\n",
       "  <th>Dep. Variable:</th>         <td>logwage</td>     <th>  R-squared:         </th> <td>0.0054</td> \n",
       "</tr>\n",
       "<tr>\n",
       "  <th>Estimator:</th>             <td>IV-2SLS</td>     <th>  Adj. R-squared:    </th> <td>0.0054</td> \n",
       "</tr>\n",
       "<tr>\n",
       "  <th>No. Observations:</th>      <td>329509</td>      <th>  F-statistic:       </th> <td>0.0248</td> \n",
       "</tr>\n",
       "<tr>\n",
       "  <th>Date:</th>             <td>Sun, Apr 16 2023</td> <th>  P-value (F-stat)   </th> <td>0.8748</td> \n",
       "</tr>\n",
       "<tr>\n",
       "  <th>Time:</th>                 <td>23:28:37</td>     <th>  Distribution:      </th> <td>chi2(1)</td>\n",
       "</tr>\n",
       "<tr>\n",
       "  <th>Cov. Estimator:</th>      <td>unadjusted</td>    <th>                     </th>    <td></td>    \n",
       "</tr>\n",
       "<tr>\n",
       "  <th></th>                          <td></td>         <th>                     </th>    <td></td>    \n",
       "</tr>\n",
       "</table>\n",
       "<table class=\"simpletable\">\n",
       "<caption>Parameter Estimates</caption>\n",
       "<tr>\n",
       "      <td></td>      <th>Parameter</th> <th>Std. Err.</th> <th>T-stat</th> <th>P-value</th> <th>Lower CI</th> <th>Upper CI</th>\n",
       "</tr>\n",
       "<tr>\n",
       "  <th>Intercept</th>  <td>5.8790</td>    <td>0.1332</td>   <td>44.141</td> <td>0.0000</td>   <td>5.6179</td>   <td>6.1400</td> \n",
       "</tr>\n",
       "<tr>\n",
       "  <th>edu</th>        <td>0.0016</td>    <td>0.0104</td>   <td>0.1575</td> <td>0.8748</td>   <td>-0.0188</td>  <td>0.0221</td> \n",
       "</tr>\n",
       "</table><br/><br/>Endogenous: edu<br/>Instruments: yob_1930, qob_1:yob_1930, qob_2:yob_1930, qob_3:yob_1930<br/>Unadjusted Covariance (Homoskedastic)<br/>Debiased: False"
      ],
      "text/plain": [
       "<class 'linearmodels.compat.statsmodels.Summary'>\n",
       "\"\"\"\n",
       "                          IV-2SLS Estimation Summary                          \n",
       "==============================================================================\n",
       "Dep. Variable:                logwage   R-squared:                      0.0054\n",
       "Estimator:                    IV-2SLS   Adj. R-squared:                 0.0054\n",
       "No. Observations:              329509   F-statistic:                    0.0248\n",
       "Date:                Sun, Apr 16 2023   P-value (F-stat)                0.8748\n",
       "Time:                        23:28:37   Distribution:                  chi2(1)\n",
       "Cov. Estimator:            unadjusted                                         \n",
       "                                                                              \n",
       "                             Parameter Estimates                              \n",
       "==============================================================================\n",
       "            Parameter  Std. Err.     T-stat    P-value    Lower CI    Upper CI\n",
       "------------------------------------------------------------------------------\n",
       "Intercept      5.8790     0.1332     44.141     0.0000      5.6179      6.1400\n",
       "edu            0.0016     0.0104     0.1575     0.8748     -0.0188      0.0221\n",
       "==============================================================================\n",
       "\n",
       "Endogenous: edu\n",
       "Instruments: yob_1930, qob_1:yob_1930, qob_2:yob_1930, qob_3:yob_1930\n",
       "Unadjusted Covariance (Homoskedastic)\n",
       "Debiased: False\n",
       "\"\"\""
      ]
     },
     "execution_count": 45,
     "metadata": {},
     "output_type": "execute_result"
    }
   ],
   "source": [
    "mod_2.summary"
   ]
  },
  {
   "cell_type": "markdown",
   "id": "b604b067",
   "metadata": {},
   "source": [
    "**Column 4**"
   ]
  },
  {
   "cell_type": "code",
   "execution_count": 10,
   "id": "765ef348",
   "metadata": {},
   "outputs": [],
   "source": [
    "df['age2'] = df['ageq']**2"
   ]
  },
  {
   "cell_type": "code",
   "execution_count": 61,
   "id": "f40d6187",
   "metadata": {},
   "outputs": [],
   "source": [
    "formula_4 = 'logwage ~ 1 + ageq + age2 [edu ~ (qob_1*yob_1930 - qob_1*yob_1939) + (qob_2*yob_1930 - qob_2*yob_1939) + (qob_3*yob_1930 - qob_3*yob_1939) + (yob_1930 - yob_1938)]'\n",
    "mod_4 = IV2SLS.from_formula(formula_4, df).fit(cov_type='unadjusted')"
   ]
  },
  {
   "cell_type": "code",
   "execution_count": 62,
   "id": "0e2433a6",
   "metadata": {
    "scrolled": true
   },
   "outputs": [
    {
     "data": {
      "text/html": [
       "<table class=\"simpletable\">\n",
       "<caption>IV-2SLS Estimation Summary</caption>\n",
       "<tr>\n",
       "  <th>Dep. Variable:</th>         <td>logwage</td>     <th>  R-squared:         </th> <td>0.1127</td> \n",
       "</tr>\n",
       "<tr>\n",
       "  <th>Estimator:</th>             <td>IV-2SLS</td>     <th>  Adj. R-squared:    </th> <td>0.1127</td> \n",
       "</tr>\n",
       "<tr>\n",
       "  <th>No. Observations:</th>      <td>329509</td>      <th>  F-statistic:       </th> <td>10.653</td> \n",
       "</tr>\n",
       "<tr>\n",
       "  <th>Date:</th>             <td>Sun, Apr 16 2023</td> <th>  P-value (F-stat)   </th> <td>0.0138</td> \n",
       "</tr>\n",
       "<tr>\n",
       "  <th>Time:</th>                 <td>23:36:10</td>     <th>  Distribution:      </th> <td>chi2(3)</td>\n",
       "</tr>\n",
       "<tr>\n",
       "  <th>Cov. Estimator:</th>      <td>unadjusted</td>    <th>                     </th>    <td></td>    \n",
       "</tr>\n",
       "<tr>\n",
       "  <th></th>                          <td></td>         <th>                     </th>    <td></td>    \n",
       "</tr>\n",
       "</table>\n",
       "<table class=\"simpletable\">\n",
       "<caption>Parameter Estimates</caption>\n",
       "<tr>\n",
       "      <td></td>      <th>Parameter</th> <th>Std. Err.</th> <th>T-stat</th>  <th>P-value</th> <th>Lower CI</th> <th>Upper CI</th>\n",
       "</tr>\n",
       "<tr>\n",
       "  <th>Intercept</th>  <td>4.9287</td>    <td>0.5163</td>   <td>9.5459</td>  <td>0.0000</td>   <td>3.9168</td>   <td>5.9407</td> \n",
       "</tr>\n",
       "<tr>\n",
       "  <th>age2</th>       <td>0.0002</td>    <td>0.0001</td>   <td>1.2576</td>  <td>0.2086</td>   <td>-0.0001</td>  <td>0.0005</td> \n",
       "</tr>\n",
       "<tr>\n",
       "  <th>ageq</th>       <td>-0.0112</td>   <td>0.0134</td>   <td>-0.8415</td> <td>0.4001</td>   <td>-0.0374</td>  <td>0.0150</td> \n",
       "</tr>\n",
       "<tr>\n",
       "  <th>edu</th>        <td>0.0858</td>    <td>0.0296</td>   <td>2.8977</td>  <td>0.0038</td>   <td>0.0278</td>   <td>0.1438</td> \n",
       "</tr>\n",
       "</table><br/><br/>Endogenous: edu<br/>Instruments: yob_1930, qob_1:yob_1930, qob_2:yob_1930, qob_3:yob_1930<br/>Unadjusted Covariance (Homoskedastic)<br/>Debiased: False"
      ],
      "text/plain": [
       "<class 'linearmodels.compat.statsmodels.Summary'>\n",
       "\"\"\"\n",
       "                          IV-2SLS Estimation Summary                          \n",
       "==============================================================================\n",
       "Dep. Variable:                logwage   R-squared:                      0.1127\n",
       "Estimator:                    IV-2SLS   Adj. R-squared:                 0.1127\n",
       "No. Observations:              329509   F-statistic:                    10.653\n",
       "Date:                Sun, Apr 16 2023   P-value (F-stat)                0.0138\n",
       "Time:                        23:36:10   Distribution:                  chi2(3)\n",
       "Cov. Estimator:            unadjusted                                         \n",
       "                                                                              \n",
       "                             Parameter Estimates                              \n",
       "==============================================================================\n",
       "            Parameter  Std. Err.     T-stat    P-value    Lower CI    Upper CI\n",
       "------------------------------------------------------------------------------\n",
       "Intercept      4.9287     0.5163     9.5459     0.0000      3.9168      5.9407\n",
       "age2           0.0002     0.0001     1.2576     0.2086     -0.0001      0.0005\n",
       "ageq          -0.0112     0.0134    -0.8415     0.4001     -0.0374      0.0150\n",
       "edu            0.0858     0.0296     2.8977     0.0038      0.0278      0.1438\n",
       "==============================================================================\n",
       "\n",
       "Endogenous: edu\n",
       "Instruments: yob_1930, qob_1:yob_1930, qob_2:yob_1930, qob_3:yob_1930\n",
       "Unadjusted Covariance (Homoskedastic)\n",
       "Debiased: False\n",
       "\"\"\""
      ]
     },
     "execution_count": 62,
     "metadata": {},
     "output_type": "execute_result"
    }
   ],
   "source": [
    "mod_4.summary"
   ]
  },
  {
   "cell_type": "markdown",
   "id": "5cd49e14",
   "metadata": {},
   "source": [
    "**Column 6** "
   ]
  },
  {
   "cell_type": "code",
   "execution_count": 63,
   "id": "6fc83690",
   "metadata": {},
   "outputs": [],
   "source": [
    "formula_6 = 'logwage ~ 1 + black + smsa + married [edu ~ (qob_1*yob_1930 - qob_1*yob_1939) + (qob_2*yob_1930 - qob_2*yob_1939) + (qob_3*yob_1930 - qob_3*yob_1939) + (yob_1930 - yob_1938)]'\n",
    "mod_6 = IV2SLS.from_formula(formula_6, df).fit(cov_type='unadjusted')"
   ]
  },
  {
   "cell_type": "code",
   "execution_count": 64,
   "id": "d1220ecc",
   "metadata": {},
   "outputs": [
    {
     "data": {
      "text/html": [
       "<table class=\"simpletable\">\n",
       "<caption>IV-2SLS Estimation Summary</caption>\n",
       "<tr>\n",
       "  <th>Dep. Variable:</th>         <td>logwage</td>     <th>  R-squared:         </th>  <td>0.1134</td>  \n",
       "</tr>\n",
       "<tr>\n",
       "  <th>Estimator:</th>             <td>IV-2SLS</td>     <th>  Adj. R-squared:    </th>  <td>0.1134</td>  \n",
       "</tr>\n",
       "<tr>\n",
       "  <th>No. Observations:</th>      <td>329509</td>      <th>  F-statistic:       </th> <td>2.393e+04</td>\n",
       "</tr>\n",
       "<tr>\n",
       "  <th>Date:</th>             <td>Sun, Apr 16 2023</td> <th>  P-value (F-stat)   </th>  <td>0.0000</td>  \n",
       "</tr>\n",
       "<tr>\n",
       "  <th>Time:</th>                 <td>23:42:46</td>     <th>  Distribution:      </th>  <td>chi2(4)</td> \n",
       "</tr>\n",
       "<tr>\n",
       "  <th>Cov. Estimator:</th>      <td>unadjusted</td>    <th>                     </th>     <td></td>     \n",
       "</tr>\n",
       "<tr>\n",
       "  <th></th>                          <td></td>         <th>                     </th>     <td></td>     \n",
       "</tr>\n",
       "</table>\n",
       "<table class=\"simpletable\">\n",
       "<caption>Parameter Estimates</caption>\n",
       "<tr>\n",
       "      <td></td>      <th>Parameter</th> <th>Std. Err.</th> <th>T-stat</th>  <th>P-value</th> <th>Lower CI</th> <th>Upper CI</th>\n",
       "</tr>\n",
       "<tr>\n",
       "  <th>Intercept</th>  <td>5.2538</td>    <td>0.1098</td>   <td>47.828</td>  <td>0.0000</td>   <td>5.0385</td>   <td>5.4691</td> \n",
       "</tr>\n",
       "<tr>\n",
       "  <th>black</th>      <td>-0.3446</td>   <td>0.0163</td>   <td>-21.111</td> <td>0.0000</td>   <td>-0.3766</td>  <td>-0.3126</td>\n",
       "</tr>\n",
       "<tr>\n",
       "  <th>married</th>    <td>0.2496</td>    <td>0.0035</td>   <td>70.786</td>  <td>0.0000</td>   <td>0.2427</td>   <td>0.2565</td> \n",
       "</tr>\n",
       "<tr>\n",
       "  <th>smsa</th>       <td>0.2470</td>    <td>0.0112</td>   <td>22.125</td>  <td>0.0000</td>   <td>0.2251</td>   <td>0.2689</td> \n",
       "</tr>\n",
       "<tr>\n",
       "  <th>edu</th>        <td>0.0202</td>    <td>0.0093</td>   <td>2.1789</td>  <td>0.0293</td>   <td>0.0020</td>   <td>0.0384</td> \n",
       "</tr>\n",
       "</table><br/><br/>Endogenous: edu<br/>Instruments: yob_1930, qob_1:yob_1930, qob_2:yob_1930, qob_3:yob_1930<br/>Unadjusted Covariance (Homoskedastic)<br/>Debiased: False"
      ],
      "text/plain": [
       "<class 'linearmodels.compat.statsmodels.Summary'>\n",
       "\"\"\"\n",
       "                          IV-2SLS Estimation Summary                          \n",
       "==============================================================================\n",
       "Dep. Variable:                logwage   R-squared:                      0.1134\n",
       "Estimator:                    IV-2SLS   Adj. R-squared:                 0.1134\n",
       "No. Observations:              329509   F-statistic:                 2.393e+04\n",
       "Date:                Sun, Apr 16 2023   P-value (F-stat)                0.0000\n",
       "Time:                        23:42:46   Distribution:                  chi2(4)\n",
       "Cov. Estimator:            unadjusted                                         \n",
       "                                                                              \n",
       "                             Parameter Estimates                              \n",
       "==============================================================================\n",
       "            Parameter  Std. Err.     T-stat    P-value    Lower CI    Upper CI\n",
       "------------------------------------------------------------------------------\n",
       "Intercept      5.2538     0.1098     47.828     0.0000      5.0385      5.4691\n",
       "black         -0.3446     0.0163    -21.111     0.0000     -0.3766     -0.3126\n",
       "married        0.2496     0.0035     70.786     0.0000      0.2427      0.2565\n",
       "smsa           0.2470     0.0112     22.125     0.0000      0.2251      0.2689\n",
       "edu            0.0202     0.0093     2.1789     0.0293      0.0020      0.0384\n",
       "==============================================================================\n",
       "\n",
       "Endogenous: edu\n",
       "Instruments: yob_1930, qob_1:yob_1930, qob_2:yob_1930, qob_3:yob_1930\n",
       "Unadjusted Covariance (Homoskedastic)\n",
       "Debiased: False\n",
       "\"\"\""
      ]
     },
     "execution_count": 64,
     "metadata": {},
     "output_type": "execute_result"
    }
   ],
   "source": [
    "mod_6.summary"
   ]
  },
  {
   "cell_type": "markdown",
   "id": "c07aebbd",
   "metadata": {},
   "source": [
    "**Column 8** "
   ]
  },
  {
   "cell_type": "code",
   "execution_count": 59,
   "id": "a8f2c7b4",
   "metadata": {},
   "outputs": [],
   "source": [
    "formula_8 = 'logwage ~ 1 + black + smsa + married + ageq + age2 [edu ~ (qob_1*yob_1930 - qob_1*yob_1939) + (qob_2*yob_1930 - qob_2*yob_1939) + (qob_3*yob_1930 - qob_3*yob_1939) + (yob_1930 - yob_1938)]'\n",
    "mod_8 = IV2SLS.from_formula(formula_8, df).fit(cov_type='unadjusted')"
   ]
  },
  {
   "cell_type": "code",
   "execution_count": 60,
   "id": "fd3dc82e",
   "metadata": {
    "scrolled": true
   },
   "outputs": [
    {
     "data": {
      "text/html": [
       "<table class=\"simpletable\">\n",
       "<caption>IV-2SLS Estimation Summary</caption>\n",
       "<tr>\n",
       "  <th>Dep. Variable:</th>         <td>logwage</td>     <th>  R-squared:         </th>  <td>0.1551</td>  \n",
       "</tr>\n",
       "<tr>\n",
       "  <th>Estimator:</th>             <td>IV-2SLS</td>     <th>  Adj. R-squared:    </th>  <td>0.1550</td>  \n",
       "</tr>\n",
       "<tr>\n",
       "  <th>No. Observations:</th>      <td>329509</td>      <th>  F-statistic:       </th> <td>2.512e+04</td>\n",
       "</tr>\n",
       "<tr>\n",
       "  <th>Date:</th>             <td>Sun, Apr 16 2023</td> <th>  P-value (F-stat)   </th>  <td>0.0000</td>  \n",
       "</tr>\n",
       "<tr>\n",
       "  <th>Time:</th>                 <td>23:36:02</td>     <th>  Distribution:      </th>  <td>chi2(6)</td> \n",
       "</tr>\n",
       "<tr>\n",
       "  <th>Cov. Estimator:</th>      <td>unadjusted</td>    <th>                     </th>     <td></td>     \n",
       "</tr>\n",
       "<tr>\n",
       "  <th></th>                          <td></td>         <th>                     </th>     <td></td>     \n",
       "</tr>\n",
       "</table>\n",
       "<table class=\"simpletable\">\n",
       "<caption>Parameter Estimates</caption>\n",
       "<tr>\n",
       "      <td></td>      <th>Parameter</th> <th>Std. Err.</th> <th>T-stat</th>  <th>P-value</th> <th>Lower CI</th> <th>Upper CI</th>\n",
       "</tr>\n",
       "<tr>\n",
       "  <th>Intercept</th>  <td>4.6649</td>    <td>0.4732</td>   <td>9.8580</td>  <td>0.0000</td>   <td>3.7374</td>   <td>5.5924</td> \n",
       "</tr>\n",
       "<tr>\n",
       "  <th>age2</th>       <td>0.0001</td>    <td>0.0001</td>   <td>0.6844</td>  <td>0.4937</td>   <td>-0.0002</td>  <td>0.0004</td> \n",
       "</tr>\n",
       "<tr>\n",
       "  <th>ageq</th>       <td>-0.0054</td>   <td>0.0131</td>   <td>-0.4122</td> <td>0.6802</td>   <td>-0.0311</td>  <td>0.0203</td> \n",
       "</tr>\n",
       "<tr>\n",
       "  <th>black</th>      <td>-0.2542</td>   <td>0.0522</td>   <td>-4.8681</td> <td>0.0000</td>   <td>-0.3566</td>  <td>-0.1519</td>\n",
       "</tr>\n",
       "<tr>\n",
       "  <th>married</th>    <td>0.2412</td>    <td>0.0058</td>   <td>41.905</td>  <td>0.0000</td>   <td>0.2299</td>   <td>0.2525</td> \n",
       "</tr>\n",
       "<tr>\n",
       "  <th>smsa</th>       <td>0.1852</td>    <td>0.0357</td>   <td>5.1865</td>  <td>0.0000</td>   <td>0.1152</td>   <td>0.2552</td> \n",
       "</tr>\n",
       "<tr>\n",
       "  <th>edu</th>        <td>0.0730</td>    <td>0.0305</td>   <td>2.3975</td>  <td>0.0165</td>   <td>0.0133</td>   <td>0.1327</td> \n",
       "</tr>\n",
       "</table><br/><br/>Endogenous: edu<br/>Instruments: yob_1930, qob_1:yob_1930, qob_2:yob_1930, qob_3:yob_1930<br/>Unadjusted Covariance (Homoskedastic)<br/>Debiased: False"
      ],
      "text/plain": [
       "<class 'linearmodels.compat.statsmodels.Summary'>\n",
       "\"\"\"\n",
       "                          IV-2SLS Estimation Summary                          \n",
       "==============================================================================\n",
       "Dep. Variable:                logwage   R-squared:                      0.1551\n",
       "Estimator:                    IV-2SLS   Adj. R-squared:                 0.1550\n",
       "No. Observations:              329509   F-statistic:                 2.512e+04\n",
       "Date:                Sun, Apr 16 2023   P-value (F-stat)                0.0000\n",
       "Time:                        23:36:02   Distribution:                  chi2(6)\n",
       "Cov. Estimator:            unadjusted                                         \n",
       "                                                                              \n",
       "                             Parameter Estimates                              \n",
       "==============================================================================\n",
       "            Parameter  Std. Err.     T-stat    P-value    Lower CI    Upper CI\n",
       "------------------------------------------------------------------------------\n",
       "Intercept      4.6649     0.4732     9.8580     0.0000      3.7374      5.5924\n",
       "age2           0.0001     0.0001     0.6844     0.4937     -0.0002      0.0004\n",
       "ageq          -0.0054     0.0131    -0.4122     0.6802     -0.0311      0.0203\n",
       "black         -0.2542     0.0522    -4.8681     0.0000     -0.3566     -0.1519\n",
       "married        0.2412     0.0058     41.905     0.0000      0.2299      0.2525\n",
       "smsa           0.1852     0.0357     5.1865     0.0000      0.1152      0.2552\n",
       "edu            0.0730     0.0305     2.3975     0.0165      0.0133      0.1327\n",
       "==============================================================================\n",
       "\n",
       "Endogenous: edu\n",
       "Instruments: yob_1930, qob_1:yob_1930, qob_2:yob_1930, qob_3:yob_1930\n",
       "Unadjusted Covariance (Homoskedastic)\n",
       "Debiased: False\n",
       "\"\"\""
      ]
     },
     "execution_count": 60,
     "metadata": {},
     "output_type": "execute_result"
    }
   ],
   "source": [
    "mod_8.summary"
   ]
  },
  {
   "cell_type": "code",
   "execution_count": null,
   "id": "d69fc295",
   "metadata": {},
   "outputs": [],
   "source": [
    "W = logwage \n",
    "X = black smsa married\n",
    "Y = yob ## 9 year of birth dummies? \n",
    "E = edu"
   ]
  },
  {
   "cell_type": "markdown",
   "id": "5bbc1114",
   "metadata": {},
   "source": [
    "### 3. TSLS - Figure 7"
   ]
  },
  {
   "cell_type": "markdown",
   "id": "bcd83ffd",
   "metadata": {},
   "source": [
    "**Column 2** "
   ]
  },
  {
   "cell_type": "code",
   "execution_count": 11,
   "id": "955bb20f",
   "metadata": {},
   "outputs": [],
   "source": [
    "# create state dummies \n",
    "state_dummies = pd.get_dummies(df['state'], prefix='state')\n",
    "df = pd.concat([df, state_dummies], axis=1)"
   ]
  },
  {
   "cell_type": "code",
   "execution_count": 69,
   "id": "1ab8924e",
   "metadata": {},
   "outputs": [],
   "source": [
    "form_col2 = 'logwage ~ 1 + [edu ~ (qob_1*yob_1930 - qob_1*yob_1939) + (qob_2*yob_1930 - qob_2*yob_1939) + (qob_3*yob_1930 - qob_3*yob_1939) + (yob_1930 - yob_1938) + (state_1 - state_51) ]'\n",
    "mod_col2 = IV2SLS.from_formula(form_col2, df).fit(cov_type='unadjusted')"
   ]
  },
  {
   "cell_type": "code",
   "execution_count": 70,
   "id": "b8937826",
   "metadata": {},
   "outputs": [
    {
     "data": {
      "text/html": [
       "<table class=\"simpletable\">\n",
       "<caption>IV-2SLS Estimation Summary</caption>\n",
       "<tr>\n",
       "  <th>Dep. Variable:</th>         <td>logwage</td>     <th>  R-squared:         </th> <td>0.0595</td> \n",
       "</tr>\n",
       "<tr>\n",
       "  <th>Estimator:</th>             <td>IV-2SLS</td>     <th>  Adj. R-squared:    </th> <td>0.0595</td> \n",
       "</tr>\n",
       "<tr>\n",
       "  <th>No. Observations:</th>      <td>329509</td>      <th>  F-statistic:       </th> <td>475.45</td> \n",
       "</tr>\n",
       "<tr>\n",
       "  <th>Date:</th>             <td>Sun, Apr 16 2023</td> <th>  P-value (F-stat)   </th> <td>0.0000</td> \n",
       "</tr>\n",
       "<tr>\n",
       "  <th>Time:</th>                 <td>23:47:08</td>     <th>  Distribution:      </th> <td>chi2(1)</td>\n",
       "</tr>\n",
       "<tr>\n",
       "  <th>Cov. Estimator:</th>      <td>unadjusted</td>    <th>                     </th>    <td></td>    \n",
       "</tr>\n",
       "<tr>\n",
       "  <th></th>                          <td></td>         <th>                     </th>    <td></td>    \n",
       "</tr>\n",
       "</table>\n",
       "<table class=\"simpletable\">\n",
       "<caption>Parameter Estimates</caption>\n",
       "<tr>\n",
       "      <td></td>      <th>Parameter</th> <th>Std. Err.</th> <th>T-stat</th> <th>P-value</th> <th>Lower CI</th> <th>Upper CI</th>\n",
       "</tr>\n",
       "<tr>\n",
       "  <th>Intercept</th>  <td>4.3602</td>    <td>0.0706</td>   <td>61.739</td> <td>0.0000</td>   <td>4.2218</td>   <td>4.4986</td> \n",
       "</tr>\n",
       "<tr>\n",
       "  <th>edu</th>        <td>0.1206</td>    <td>0.0055</td>   <td>21.805</td> <td>0.0000</td>   <td>0.1097</td>   <td>0.1314</td> \n",
       "</tr>\n",
       "</table><br/><br/>Endogenous: edu<br/>Instruments: state_1[state_1], yob_1930, qob_1:yob_1930, qob_2:yob_1930, qob_3:yob_1930<br/>Unadjusted Covariance (Homoskedastic)<br/>Debiased: False"
      ],
      "text/plain": [
       "<class 'linearmodels.compat.statsmodels.Summary'>\n",
       "\"\"\"\n",
       "                          IV-2SLS Estimation Summary                          \n",
       "==============================================================================\n",
       "Dep. Variable:                logwage   R-squared:                      0.0595\n",
       "Estimator:                    IV-2SLS   Adj. R-squared:                 0.0595\n",
       "No. Observations:              329509   F-statistic:                    475.45\n",
       "Date:                Sun, Apr 16 2023   P-value (F-stat)                0.0000\n",
       "Time:                        23:47:08   Distribution:                  chi2(1)\n",
       "Cov. Estimator:            unadjusted                                         \n",
       "                                                                              \n",
       "                             Parameter Estimates                              \n",
       "==============================================================================\n",
       "            Parameter  Std. Err.     T-stat    P-value    Lower CI    Upper CI\n",
       "------------------------------------------------------------------------------\n",
       "Intercept      4.3602     0.0706     61.739     0.0000      4.2218      4.4986\n",
       "edu            0.1206     0.0055     21.805     0.0000      0.1097      0.1314\n",
       "==============================================================================\n",
       "\n",
       "Endogenous: edu\n",
       "Instruments: state_1[state_1], yob_1930, qob_1:yob_1930, qob_2:yob_1930, qob_3:yob_1930\n",
       "Unadjusted Covariance (Homoskedastic)\n",
       "Debiased: False\n",
       "\"\"\""
      ]
     },
     "execution_count": 70,
     "metadata": {},
     "output_type": "execute_result"
    }
   ],
   "source": [
    "mod_col2.summary"
   ]
  },
  {
   "cell_type": "markdown",
   "id": "966b3081",
   "metadata": {},
   "source": [
    "### 4. Chernozhukov and C. Hansen estimator "
   ]
  },
  {
   "cell_type": "markdown",
   "id": "768c7cdf",
   "metadata": {},
   "source": [
    "**Table 5** "
   ]
  },
  {
   "cell_type": "markdown",
   "id": "4855ac61",
   "metadata": {},
   "source": [
    "(1) Again suppose that the true  $B = 1$. Write a function which\n",
    "takes as arguments (y; x;Z; $B0$) and which returns the p-value\n",
    "associated with the hypothesis that every element of $gamma hat$ is zero (an F-test would be appropriate). Note that this same p-value\n",
    "characterizes the hypothesis test that  $B = B0$."
   ]
  },
  {
   "cell_type": "code",
   "execution_count": 2,
   "id": "1d02f9e5",
   "metadata": {},
   "outputs": [],
   "source": [
    "# define functions from # 5\n",
    "def pval_fun(y,x,Z,B0): \n",
    "    \"\"\"\n",
    "    inputs: \n",
    "        y: dependent var\n",
    "        x: endogenous var\n",
    "        Z: instrument \n",
    "        B0\n",
    "    \n",
    "    y-B0x = Zgamma + w\n",
    "    return p-value associated with hypothesis that gamma = 0\n",
    "    \"\"\"\n",
    "    formula = f\"{y.name} ~ offset({B0}*{x.name}) + {' + '.join(Z.columns)}\"\n",
    "    lm = smf.ols(formula=formula, data=pd.concat([y, x, Z], axis=1)).fit()\n",
    "   \n",
    "    # Compute the F-test p-value\n",
    "    pval = lm.f_pvalue\n",
    "    return pval"
   ]
  },
  {
   "cell_type": "markdown",
   "id": "83fca5c4",
   "metadata": {},
   "source": [
    "Using your function and taking $pi = 1$, estimate $B$ by finding\n",
    "the value of $B0$ which delivers maximal p-values. Describe the\n",
    "bias and precision of this estimator."
   ]
  },
  {
   "cell_type": "code",
   "execution_count": null,
   "id": "d83fe00d",
   "metadata": {},
   "outputs": [],
   "source": [
    "def B_fun (y, x, Z):\n",
    "    \"\"\"\n",
    "    inputs:\n",
    "        y: dependent var\n",
    "        x: endogenous var\n",
    "        Z: instrument \n",
    "        \n",
    "    return B0 that maximizes p-value\n",
    "    \"\"\"\n",
    "    "
   ]
  },
  {
   "cell_type": "markdown",
   "id": "07aca83e",
   "metadata": {},
   "source": [
    "**Table 7** "
   ]
  },
  {
   "cell_type": "markdown",
   "id": "174a0771",
   "metadata": {},
   "source": [
    "### 5. Confidence intervals"
   ]
  },
  {
   "cell_type": "markdown",
   "id": "2f13ea5e",
   "metadata": {},
   "source": [
    "**2SLS**"
   ]
  },
  {
   "cell_type": "code",
   "execution_count": null,
   "id": "900b13f9",
   "metadata": {},
   "outputs": [],
   "source": []
  }
 ],
 "metadata": {
  "kernelspec": {
   "display_name": "pp275",
   "language": "python",
   "name": "pp275"
  },
  "language_info": {
   "codemirror_mode": {
    "name": "ipython",
    "version": 3
   },
   "file_extension": ".py",
   "mimetype": "text/x-python",
   "name": "python",
   "nbconvert_exporter": "python",
   "pygments_lexer": "ipython3",
   "version": "3.9.13"
  }
 },
 "nbformat": 4,
 "nbformat_minor": 5
}
