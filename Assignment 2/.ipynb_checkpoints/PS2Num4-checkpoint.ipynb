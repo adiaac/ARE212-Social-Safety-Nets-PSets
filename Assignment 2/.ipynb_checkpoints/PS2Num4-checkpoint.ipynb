{
 "cells": [
  {
   "cell_type": "markdown",
   "id": "fe4a1e1b-8b5a-483b-8069-e116f04fa560",
   "metadata": {},
   "source": [
    "#Problem Set 2 Number 4: Weak Instruments\n",
    "\n",
    "##Construct a data-generating process"
   ]
  },
  {
   "cell_type": "code",
   "execution_count": 17,
   "id": "c5867c8f-b821-46ee-8a86-2ddab8418c24",
   "metadata": {},
   "outputs": [],
   "source": [
    "#Import packages\n",
    "import numpy as np\n",
    "import pandas as pd\n",
    "import scipy.stats.distributions as iid\n",
    "import matplotlib.pyplot as plt\n",
    "import scipy.stats\n",
    "import matplotlib.pyplot as plt"
   ]
  },
  {
   "cell_type": "code",
   "execution_count": 18,
   "id": "923b490f-3821-4fbd-a74d-14a6605b2a66",
   "metadata": {},
   "outputs": [],
   "source": [
    "# DGP: y, X, z\n",
    "\n",
    "def dgp(N, beta, pi):\n",
    "    '''\n",
    "    Data-generating process\n",
    "    \n",
    "    Inputs\n",
    "    ------\n",
    "    N (int) number of obervations\n",
    "    beta (float) true parameter\n",
    "    pi (lx1 np.array) tur first stage parameter\n",
    " \n",
    "    Returns\n",
    "    -------\n",
    "    y (Nx1 np.array)\n",
    "    x (Nx1 np.array)\n",
    "    Z (Nxl np.array)\n",
    "    '''\n",
    "    \n",
    "    \n",
    "    # infer number of instruments from the size of pi\n",
    "    l = pi.shape[0]\n",
    "    # first generate Z\n",
    "    Z = scipy.stats.multivariate_normal(np.zeros(l), np.eye(l)).rvs(size=N)\n",
    "    if len(Z.shape) == 1:\n",
    "        Z = Z.reshape(-1,1)\n",
    "    \n",
    "    # now build X\n",
    "    X = Z@pi + iid.norm().rvs(size=(N,1))\n",
    "\n",
    "    # finally, build y\n",
    "    y = X*beta + iid.norm().rvs(size=(N,1))\n",
    "    \n",
    "    return y, X, Z"
   ]
  },
  {
   "cell_type": "code",
   "execution_count": 31,
   "id": "0b1ad79c-52fb-4efc-9d29-7602c9515658",
   "metadata": {},
   "outputs": [
    {
     "name": "stdout",
     "output_type": "stream",
     "text": [
      "beta_hat for pi = 1e-05: 3.884\n",
      "beta_hat for pi = 0.001: 2.277\n",
      "beta_hat for pi = 0.1: 1.449\n",
      "beta_hat for pi = 1: 2.105\n",
      "beta_hat for pi = 500: 2.0\n"
     ]
    }
   ],
   "source": [
    "# test IV regression\n",
    "N = 100\n",
    "beta = 2\n",
    "\n",
    "for p in [0.00001, 0.001, 0.1, 1, 500]:\n",
    "    # set pi\n",
    "    pi = np.array([[p]])\n",
    "    # generate data\n",
    "    y, X, Z = dgp(N, beta, pi)\n",
    "    # estimate beta via IV\n",
    "    bhat = np.linalg.solve(Z.T@X, Z.T@y) \n",
    "    # report\n",
    "    print(f'beta_hat for pi = {p}: {bhat.item():.4}')"
   ]
  },
  {
   "cell_type": "markdown",
   "id": "6555677d-cb1f-4e79-af7b-08755da3b9c7",
   "metadata": {},
   "source": [
    "#2) Use the dgp function you've constructed to explore IV (2SLS) estimates of B as a function of pi when l=1 using a Monte Carlo approach, assuming homoskedastic errors.\n",
    "## a) Write a function two_sls which takes as arguments (y; x;Z) and returns two-stage least squares estimates of B and the standard error of the estimate."
   ]
  },
  {
   "cell_type": "code",
   "execution_count": 25,
   "id": "eacf685c-7296-4fd5-9973-52b9cae3d0a5",
   "metadata": {},
   "outputs": [],
   "source": [
    "def two_sls(y, X, Z):\n",
    "    '''\n",
    "    Estimate 2 stage least squares given data on y, X and Z.\n",
    "    \n",
    "    Inputs:\n",
    "    -------\n",
    "    y (Nx1 np.array)\n",
    "    X (Nx1 np.array)\n",
    "    Z (Nxl np.array)\n",
    "    \n",
    "    Returns\n",
    "    -------\n",
    "    beta_hat (kx1 np.array): Estimated coefficients\n",
    "    se_beta_hat (kx1 np.array): Standard errors of the estimated coefficients\n",
    "    '''\n",
    "    xhat = X@np.linalg.solve(Z.T@Z, Z.T@X)\n",
    "    beta_hat = np.linalg.solve(xhat.T@xhat, xhat.T@y)\n",
    "    \n",
    "    #compute the errors\n",
    "    e = y - X @ beta_hat\n",
    "    sigma_hat = np.linalg.inv(xhat.T @ xhat) @ (e.T @ e) / (len(y) - len(beta_hat))\n",
    "    se_beta_hat = np.sqrt(np.diagonal(sigma_hat * np.linalg.inv(xhat.T @ xhat)))\n",
    "    \n",
    "    return beta_hat, se_beta_hat"
   ]
  },
  {
   "cell_type": "code",
   "execution_count": 26,
   "id": "e3f96ba8-b87c-43a8-8de3-b60bec82bf20",
   "metadata": {},
   "outputs": [
    {
     "data": {
      "text/plain": [
       "(array([[0.96633934]]), array([0.00044756]))"
      ]
     },
     "execution_count": 26,
     "metadata": {},
     "output_type": "execute_result"
    }
   ],
   "source": [
    "# test \n",
    "y, X, Z = dgp(1000, 1, np.array([[1]]))\n",
    "two_sls(y, X, Z) "
   ]
  },
  {
   "cell_type": "code",
   "execution_count": 32,
   "id": "cb08a83d-226d-453d-ab67-f38a681b02de",
   "metadata": {},
   "outputs": [],
   "source": [
    "# Define two monteCarlo functions: one for beta, one for SE\n",
    "def monteCarloBeta(N, beta, pi):\n",
    "    y, X, Z = dgp(N, beta, pi)\n",
    "    beta_hat, _ = two_sls(y, X, Z)  # we only want beta_hat. \n",
    "    return beta_hat\n",
    "\n",
    "def monteCarloSE(N, beta, pi):\n",
    "    y, X, Z = dgp(N, beta, pi)\n",
    "    se_beta_hat, _ = two_sls(y, X, Z)  # we only want beta_hat. \n",
    "    return se_beta_hat"
   ]
  },
  {
   "cell_type": "markdown",
   "id": "cb56a1bc-3532-4f2d-a989-fad711fabdce",
   "metadata": {},
   "source": [
    "#Taking B = pi = 1, use repeated draws from dgp to check the bias, and precision of the two_sls estimator, as well as the size and power of a t-test of the hypothesis that B = 0. Discuss. Does a 95% confidence interval (based on your 2SLS estimator) correctly cover 95% of your Monte Carlo draws?"
   ]
  },
  {
   "cell_type": "code",
   "execution_count": 33,
   "id": "dd549a9b-729e-4571-8d40-3dc64969f261",
   "metadata": {},
   "outputs": [
    {
     "data": {
      "image/png": "[encoded data removed]",
      "text/plain": [
       "<Figure size 640x480 with 3 Axes>"
      ]
     },
     "metadata": {},
     "output_type": "display_data"
    }
   ],
   "source": [
    "mylist = [i for i in range(100)]\n",
    "\n",
    "counter = 0 # first axis starts at 0\n",
    "fig, ax = plt.subplots(1, 3) # initialize 3 subplots\n",
    "\n",
    "# set global parameters for DGP\n",
    "beta = 1\n",
    "pi = np.array([[1]])\n",
    "\n",
    "for N in [100, 1000, 10000]:\n",
    "    # calculate IV a bunch of times\n",
    "    beta_hats = [monteCarloBeta(N, beta, pi).item() for i in range(1000)] #needs to be modified to only return out the betas. right now monteCarlo produces both beta hat and se hat. we still need se hat \n",
    "    # plot\n",
    "    ax[counter].hist(beta_hats)\n",
    "    ax[counter].set_title(f\"N = {N}\")\n",
    "    ax[counter].axvline(x=1, color='r', label='True beta')\n",
    "    \n",
    "    #not sure yet how to integrate the part about 95% CI\n",
    "\n",
    "    # advance counter\n",
    "    counter = counter + 1"
   ]
  },
  {
   "cell_type": "code",
   "execution_count": null,
   "id": "2f477b58-73de-4df8-8205-17f4cb2ced18",
   "metadata": {},
   "outputs": [],
   "source": [
    "#Problem 2.C"
   ]
  },
  {
   "cell_type": "code",
   "execution_count": null,
   "id": "f7bfdc4c-4289-4afa-a244-33a8b986e290",
   "metadata": {},
   "outputs": [],
   "source": [
    "#Q3\n",
    "#Alter DGP to now return Z as an n x l matrix with successive columns of Z increasingly \"weak\" instruments\n"
   ]
  },
  {
   "cell_type": "code",
   "execution_count": 34,
   "id": "a5397f1e-2761-42a0-b92e-a0865037d7ea",
   "metadata": {},
   "outputs": [],
   "source": [
    "#3a\n"
   ]
  },
  {
   "cell_type": "code",
   "execution_count": null,
   "id": "88712d45-6f99-45b2-9760-13e6c7b21cad",
   "metadata": {},
   "outputs": [],
   "source": [
    "#3b"
   ]
  }
 ],
 "metadata": {
  "kernelspec": {
   "display_name": "Python 3 (ipykernel)",
   "language": "python",
   "name": "python3"
  },
  "language_info": {
   "codemirror_mode": {
    "name": "ipython",
    "version": 3
   },
   "file_extension": ".py",
   "mimetype": "text/x-python",
   "name": "python",
   "nbconvert_exporter": "python",
   "pygments_lexer": "ipython3",
   "version": "3.10.9"
  }
 },
 "nbformat": 4,
 "nbformat_minor": 5
}
