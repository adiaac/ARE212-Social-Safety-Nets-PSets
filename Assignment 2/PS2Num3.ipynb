{
 "cells": [
  {
   "attachments": {},
   "cell_type": "markdown",
   "metadata": {},
   "source": [
    "## 3. Plausibly Exogenous\n",
    "\n",
    "The Wright (1934) model we've described takes the form\n",
    "(1) $$y = X\\beta{} + u$$\n",
    "with a right-hand-side variable (price) that depends on the disturbance u.\n",
    "Were we to estimate the regression equation $y = Xb + e$ using least\n",
    "squares, we would obtain \n",
    "$b = X^+y = \\beta{} + X^+u$; we cannot identify b with $\\beta$ because of the unknown and unobservable term $X^+u$."
   ]
  },
  {
   "attachments": {},
   "cell_type": "markdown",
   "metadata": {},
   "source": [
    "(1) We previously found that with some instrumental variables Z satisfying the moment condition $E(u^+Z) = 0$, it becomes possible to identify $\\beta{}$. Explain in detail how this works, and exactly what assumptions are required."
   ]
  },
  {
   "attachments": {},
   "cell_type": "markdown",
   "metadata": {
    "vscode": {
     "languageId": "plaintext"
    }
   },
   "source": [
    "To consistently estimate $\\beta{}$ we require instruments. We require our instruments to be under condition $E(u^{+}Z) = 0$ where they are uncorrelated with the equation error, or exogeneous - determined outside of the model for y.\n",
    "Substituting the estimator, the 2SLS is consistent for all coefficients $\\beta{}$.\n",
    "\n",
    "$$y = X\\beta{} + u$$\n",
    "$$\\hat{\\beta{}}{_2}{_s}{_l}{_s} = (X'Z(Z'Z)^{-1}Z'X)^{-1}X'Z(Z'Z)^{-1}Z'(X\\beta{}+u)$$\n",
    "$$ = \\beta{}+(X'Z(Z'Z)^{-1}Z'X)^{-1}X'Z(Z'Z)^{-1}Z'u$$\n",
    "$$ \\hat{\\beta{}}{_2}{_s}{_l}{_s} - \\beta{} = E(u^{+}Z) = 0$$"
   ]
  },
  {
   "attachments": {},
   "cell_type": "markdown",
   "metadata": {},
   "source": [
    "Conley, C. B. Hansen, and Rossi (2012) describe methods for dealing with cases in which the moment condition $E(u^+Z)$ = 0 is violated, so that in a regression \n",
    "\n",
    "(2) $$y = X\\beta{}+Z\\gamma{}+u$$\n",
    "\n",
    "estimates of the parameter vector $\\gamma{}$ may be non-zero, but where is\n",
    "nevertheless \"small\"."
   ]
  },
  {
   "attachments": {},
   "cell_type": "markdown",
   "metadata": {},
   "source": [
    "(1) Modify the framework we developed for exploring the Wright (1934) model so that the data generating process linear_dgp allows for $\\gamma{} \\not{=} 0$, and explore how estimator $b\\gamma{}$ varies with $\\gamma{}$."
   ]
  },
  {
   "cell_type": "code",
   "execution_count": 88,
   "metadata": {},
   "outputs": [],
   "source": [
    "import numpy as np\n",
    "import pandas as pd\n",
    "from scipy.stats import distributions as iid\n",
    "\n",
    "# Unobservable component of supply shock z\n",
    "# Can have any distribution one pleases\n",
    "w = iid.beta(1,2,loc=-iid.beta(1,2).mean()) # Centered for convenience\n",
    "\n",
    "# Structural parameters;\n",
    "(alpha,beta) = (-1,2)     \n",
    "sigma = {'u':1/2,'v':1/3}\n",
    "mu = {'u':2,'v':-1}\n",
    "\n",
    "# u,v assumed independent\n",
    "u = iid.norm(loc=mu['u'], scale=sigma['u'])  # Demand shocks\n",
    "v = iid.norm(loc=mu['v'], scale=sigma['v'])  # Supply shocks\n",
    "\n",
    "# Reduced form coefficients\n",
    "pi = [[-beta/(alpha - beta), -1/(alpha - beta)],\n",
    "     [ alpha/(alpha - beta), 1/(alpha - beta)]]\n",
    "\n",
    "# Generate N realizations of system\n",
    "# Outcomes have columns (p,q,z)\n",
    "def wright_dgp(N):\n",
    "    \"\"\"\n",
    "    Generate data consistent with Wright (1934) hog demand and supply.\n",
    "\n",
    "    Returns a pandas dataframe with N observations on (p,q,z), where\n",
    "    z is understood to be a supply shock.\n",
    "    \"\"\"\n",
    "    \n",
    "    # Arrange shocks into an Nx2 matrix\n",
    "    U = np.c_[u.rvs(N), v.rvs(N)]\n",
    "\n",
    "    # Matrix product gives [q,p]; label by putting into df\n",
    "    df = pd.DataFrame(U@pi,columns=['q','p'])\n",
    "\n",
    "    Udf = pd.DataFrame(U,columns=['u','v']) # For future reference\n",
    "\n",
    "    # Relate v and z (need not be linear)\n",
    "    unobserved_shock = w.rvs(N)/10\n",
    "    df['z'] = (1-unobserved_shock)*np.exp(4*Udf['v'] - unobserved_shock)\n",
    "    df['Constant'] = 1\n",
    "\n",
    "    # Include a constant term in both X & Z\n",
    "    return df[['q']],df[['Constant','p']],df[['Constant','z']]"
   ]
  },
  {
   "cell_type": "code",
   "execution_count": 89,
   "metadata": {},
   "outputs": [
    {
     "name": "stdout",
     "output_type": "stream",
     "text": [
      "[[ 2.05652039]\n",
      " [-1.09657713]]\n"
     ]
    }
   ],
   "source": [
    "import numpy as np\n",
    "\n",
    "def draw_b(N,dgp):\n",
    "    \"\"\"\n",
    "    Generate a random variate $b$ from a sample of $N$ draws from the Wright (1934) DGP.\n",
    "    \"\"\"\n",
    "    y,X,Z =  dgp(N)\n",
    "\n",
    "    return np.linalg.solve(Z.T@X,Z.T@y) # Solve normal eqs\n",
    "\n",
    "b = draw_b(100,wright_dgp)\n",
    "\n",
    "print(b)"
   ]
  },
  {
   "cell_type": "code",
   "execution_count": 90,
   "metadata": {},
   "outputs": [],
   "source": [
    "from scipy.stats import distributions as iid\n",
    "\n",
    "def linear_dgp(N,beta,gamma,pi,sigma_u,sigma_v):\n",
    "    u = iid.norm(scale=sigma_u).rvs(N)\n",
    "    v = iid.norm(scale=sigma_v).rvs(N)\n",
    "    Z = iid.norm().rvs(N)\n",
    "\n",
    "    X = Z*pi + v\n",
    "    y = X*beta + u\n",
    "\n",
    "    df = pd.DataFrame({'y':y,'x':X,'z':Z,'Constant':1})\n",
    "\n",
    "    return df[['y']],df[['Constant','x']],df[['Constant','z']]"
   ]
  },
  {
   "cell_type": "code",
   "execution_count": 92,
   "metadata": {},
   "outputs": [
    {
     "data": {
      "text/plain": [
       "array([[<matplotlib.axes._subplots.AxesSubplot object at 0x000001DBEE52ED90>]],\n",
       "      dtype=object)"
      ]
     },
     "execution_count": 92,
     "metadata": {},
     "output_type": "execute_result"
    },
    {
     "data": {
      "image/png": "[encoded data removed]",
      "text/plain": [
       "<Figure size 640x480 with 1 Axes>"
      ]
     },
     "metadata": {},
     "output_type": "display_data"
    }
   ],
   "source": [
    "from matplotlib import pyplot as plt\n",
    "\n",
    "# Non-zero gamma\n",
    "B = pd.DataFrame([draw_b(100,lambda N: linear_dgp(N,1,1,.01,1,1))[1] for i in range(1000)])\n",
    "\n",
    "B.hist(bins=int(np.ceil(np.sqrt(B.shape[0]))))"
   ]
  },
  {
   "attachments": {},
   "cell_type": "markdown",
   "metadata": {},
   "source": [
    "(2) Calculate a region A over which one might fail to reject (i.e, \"Accept\") the null hypothesis that $b(\\gamma{}) = b(0)$ at a conventional level of significance. Discuss.\n"
   ]
  },
  {
   "cell_type": "code",
   "execution_count": 102,
   "metadata": {},
   "outputs": [],
   "source": [
    "def linear_dgp(N, beta, gamma, sigma_u, sigma_v):\n",
    "    iid = np.random.default_rng(1234)\n",
    "    u = iid.normal(scale=sigma_u, size=N)\n",
    "    v = iid.normal(scale=sigma_v, size=N)\n",
    "    Z = iid.normal(size=N)\n",
    "    pi = np.array([[1], [0.5]])\n",
    "\n",
    "    X = Z.dot(pi.T) + v.reshape(-1, 1)\n",
    "    y = X.dot(beta) + Z.dot(gamma) + u\n",
    "\n",
    "    df = pd.DataFrame({'y': y, 'x': X.squeeze(), 'z': Z, 'Constant': 1})\n",
    "\n",
    "    return df[['y']], df[['Constant', 'x']], df[['Constant', 'z']]"
   ]
  },
  {
   "cell_type": "code",
   "execution_count": 103,
   "metadata": {},
   "outputs": [
    {
     "ename": "TypeError",
     "evalue": "linear_dgp() takes 5 positional arguments but 6 were given",
     "output_type": "error",
     "traceback": [
      "\u001b[1;31m---------------------------------------------------------------------------\u001b[0m",
      "\u001b[1;31mTypeError\u001b[0m                                 Traceback (most recent call last)",
      "Cell \u001b[1;32mIn[103], line 7\u001b[0m\n\u001b[0;32m      4\u001b[0m se_b_gamma_vals \u001b[39m=\u001b[39m []\n\u001b[0;32m      6\u001b[0m \u001b[39mfor\u001b[39;00m gamma \u001b[39min\u001b[39;00m gamma_vals:\n\u001b[1;32m----> 7\u001b[0m     y, X, Z \u001b[39m=\u001b[39m linear_dgp(\u001b[39m1000\u001b[39;49m, \u001b[39m2\u001b[39;49m, gamma, [[\u001b[39m1\u001b[39;49m, \u001b[39m0.5\u001b[39;49m], [\u001b[39m0.5\u001b[39;49m, \u001b[39m1\u001b[39;49m]], \u001b[39m1\u001b[39;49m, \u001b[39m1\u001b[39;49m)\n\u001b[0;32m      8\u001b[0m     b \u001b[39m=\u001b[39m np\u001b[39m.\u001b[39mlinalg\u001b[39m.\u001b[39msolve(Z\u001b[39m.\u001b[39mT \u001b[39m@\u001b[39m X, Z\u001b[39m.\u001b[39mT \u001b[39m@\u001b[39m y)\n\u001b[0;32m      9\u001b[0m     b_gamma \u001b[39m=\u001b[39m b[\u001b[39m1\u001b[39m] \u001b[39m*\u001b[39m gamma\n",
      "\u001b[1;31mTypeError\u001b[0m: linear_dgp() takes 5 positional arguments but 6 were given"
     ]
    }
   ],
   "source": [
    "import scipy.stats as stats\n",
    "\n",
    "b_gamma_vals = []\n",
    "se_b_gamma_vals = []\n",
    "\n",
    "for gamma in gamma_vals:\n",
    "    y, X, Z = linear_dgp(1000, 2, gamma, [[1, 0.5], [0.5, 1]], 1, 1)\n",
    "    b = np.linalg.solve(Z.T @ X, Z.T @ y)\n",
    "    b_gamma = b[1] * gamma\n",
    "    se_b_gamma = np.sqrt(np.diag(np.linalg.inv(X.T @ X) * np.sum(Z**2)))\n",
    "    b_gamma_vals.append(b_gamma)\n",
    "    se_b_gamma_vals.append(se_b_gamma)"
   ]
  },
  {
   "cell_type": "code",
   "execution_count": 99,
   "metadata": {},
   "outputs": [],
   "source": [
    "t_stat = stats.t.ppf(0.975, 1000-3) # two-tailed test\n",
    "CI_lower = [b - t_stat * se for b, se in zip(b_gamma_vals, se_b_gamma_vals)]\n",
    "CI_upper = [b + t_stat * se for b, se in zip(b_gamma_vals, se_b_gamma_vals)]"
   ]
  },
  {
   "cell_type": "code",
   "execution_count": 100,
   "metadata": {},
   "outputs": [
    {
     "ename": "ValueError",
     "evalue": "x and y must have same first dimension, but have shapes (100,) and (0,)",
     "output_type": "error",
     "traceback": [
      "\u001b[1;31m---------------------------------------------------------------------------\u001b[0m",
      "\u001b[1;31mValueError\u001b[0m                                Traceback (most recent call last)",
      "Cell \u001b[1;32mIn[100], line 3\u001b[0m\n\u001b[0;32m      1\u001b[0m \u001b[39mimport\u001b[39;00m \u001b[39mmatplotlib\u001b[39;00m\u001b[39m.\u001b[39;00m\u001b[39mpyplot\u001b[39;00m \u001b[39mas\u001b[39;00m \u001b[39mplt\u001b[39;00m\n\u001b[1;32m----> 3\u001b[0m plt\u001b[39m.\u001b[39;49mplot(gamma_vals, b_gamma_vals)\n\u001b[0;32m      4\u001b[0m plt\u001b[39m.\u001b[39mfill_between(gamma_vals, CI_lower, CI_upper, alpha\u001b[39m=\u001b[39m\u001b[39m0.2\u001b[39m)\n\u001b[0;32m      5\u001b[0m plt\u001b[39m.\u001b[39maxhline(y\u001b[39m=\u001b[39m\u001b[39m0\u001b[39m, linestyle\u001b[39m=\u001b[39m\u001b[39m'\u001b[39m\u001b[39m--\u001b[39m\u001b[39m'\u001b[39m, color\u001b[39m=\u001b[39m\u001b[39m'\u001b[39m\u001b[39mgrey\u001b[39m\u001b[39m'\u001b[39m)\n",
      "File \u001b[1;32mc:\\Users\\gordo\\.conda\\envs\\are212\\lib\\site-packages\\matplotlib\\pyplot.py:2761\u001b[0m, in \u001b[0;36mplot\u001b[1;34m(scalex, scaley, data, *args, **kwargs)\u001b[0m\n\u001b[0;32m   2759\u001b[0m \u001b[39m@docstring\u001b[39m\u001b[39m.\u001b[39mcopy(Axes\u001b[39m.\u001b[39mplot)\n\u001b[0;32m   2760\u001b[0m \u001b[39mdef\u001b[39;00m \u001b[39mplot\u001b[39m(\u001b[39m*\u001b[39margs, scalex\u001b[39m=\u001b[39m\u001b[39mTrue\u001b[39;00m, scaley\u001b[39m=\u001b[39m\u001b[39mTrue\u001b[39;00m, data\u001b[39m=\u001b[39m\u001b[39mNone\u001b[39;00m, \u001b[39m*\u001b[39m\u001b[39m*\u001b[39mkwargs):\n\u001b[1;32m-> 2761\u001b[0m     \u001b[39mreturn\u001b[39;00m gca()\u001b[39m.\u001b[39;49mplot(\n\u001b[0;32m   2762\u001b[0m         \u001b[39m*\u001b[39;49margs, scalex\u001b[39m=\u001b[39;49mscalex, scaley\u001b[39m=\u001b[39;49mscaley, \u001b[39m*\u001b[39;49m\u001b[39m*\u001b[39;49m({\u001b[39m\"\u001b[39;49m\u001b[39mdata\u001b[39;49m\u001b[39m\"\u001b[39;49m: data} \u001b[39mif\u001b[39;49;00m data\n\u001b[0;32m   2763\u001b[0m         \u001b[39mis\u001b[39;49;00m \u001b[39mnot\u001b[39;49;00m \u001b[39mNone\u001b[39;49;00m \u001b[39melse\u001b[39;49;00m {}), \u001b[39m*\u001b[39;49m\u001b[39m*\u001b[39;49mkwargs)\n",
      "File \u001b[1;32mc:\\Users\\gordo\\.conda\\envs\\are212\\lib\\site-packages\\matplotlib\\axes\\_axes.py:1647\u001b[0m, in \u001b[0;36mAxes.plot\u001b[1;34m(self, scalex, scaley, data, *args, **kwargs)\u001b[0m\n\u001b[0;32m   1416\u001b[0m \u001b[39m\u001b[39m\u001b[39m\"\"\"\u001b[39;00m\n\u001b[0;32m   1417\u001b[0m \u001b[39mPlot y versus x as lines and/or markers.\u001b[39;00m\n\u001b[0;32m   1418\u001b[0m \n\u001b[1;32m   (...)\u001b[0m\n\u001b[0;32m   1644\u001b[0m \u001b[39m(``'green'``) or hex strings (``'#008000'``).\u001b[39;00m\n\u001b[0;32m   1645\u001b[0m \u001b[39m\"\"\"\u001b[39;00m\n\u001b[0;32m   1646\u001b[0m kwargs \u001b[39m=\u001b[39m cbook\u001b[39m.\u001b[39mnormalize_kwargs(kwargs, mlines\u001b[39m.\u001b[39mLine2D)\n\u001b[1;32m-> 1647\u001b[0m lines \u001b[39m=\u001b[39m [\u001b[39m*\u001b[39m\u001b[39mself\u001b[39m\u001b[39m.\u001b[39m_get_lines(\u001b[39m*\u001b[39margs, data\u001b[39m=\u001b[39mdata, \u001b[39m*\u001b[39m\u001b[39m*\u001b[39mkwargs)]\n\u001b[0;32m   1648\u001b[0m \u001b[39mfor\u001b[39;00m line \u001b[39min\u001b[39;00m lines:\n\u001b[0;32m   1649\u001b[0m     \u001b[39mself\u001b[39m\u001b[39m.\u001b[39madd_line(line)\n",
      "File \u001b[1;32mc:\\Users\\gordo\\.conda\\envs\\are212\\lib\\site-packages\\matplotlib\\axes\\_base.py:216\u001b[0m, in \u001b[0;36m_process_plot_var_args.__call__\u001b[1;34m(self, *args, **kwargs)\u001b[0m\n\u001b[0;32m    214\u001b[0m     this \u001b[39m+\u001b[39m\u001b[39m=\u001b[39m args[\u001b[39m0\u001b[39m],\n\u001b[0;32m    215\u001b[0m     args \u001b[39m=\u001b[39m args[\u001b[39m1\u001b[39m:]\n\u001b[1;32m--> 216\u001b[0m \u001b[39myield from\u001b[39;00m \u001b[39mself\u001b[39;49m\u001b[39m.\u001b[39;49m_plot_args(this, kwargs)\n",
      "File \u001b[1;32mc:\\Users\\gordo\\.conda\\envs\\are212\\lib\\site-packages\\matplotlib\\axes\\_base.py:342\u001b[0m, in \u001b[0;36m_process_plot_var_args._plot_args\u001b[1;34m(self, tup, kwargs)\u001b[0m\n\u001b[0;32m    339\u001b[0m     \u001b[39mself\u001b[39m\u001b[39m.\u001b[39maxes\u001b[39m.\u001b[39myaxis\u001b[39m.\u001b[39mupdate_units(y)\n\u001b[0;32m    341\u001b[0m \u001b[39mif\u001b[39;00m x\u001b[39m.\u001b[39mshape[\u001b[39m0\u001b[39m] \u001b[39m!=\u001b[39m y\u001b[39m.\u001b[39mshape[\u001b[39m0\u001b[39m]:\n\u001b[1;32m--> 342\u001b[0m     \u001b[39mraise\u001b[39;00m \u001b[39mValueError\u001b[39;00m(\u001b[39mf\u001b[39m\u001b[39m\"\u001b[39m\u001b[39mx and y must have same first dimension, but \u001b[39m\u001b[39m\"\u001b[39m\n\u001b[0;32m    343\u001b[0m                      \u001b[39mf\u001b[39m\u001b[39m\"\u001b[39m\u001b[39mhave shapes \u001b[39m\u001b[39m{\u001b[39;00mx\u001b[39m.\u001b[39mshape\u001b[39m}\u001b[39;00m\u001b[39m and \u001b[39m\u001b[39m{\u001b[39;00my\u001b[39m.\u001b[39mshape\u001b[39m}\u001b[39;00m\u001b[39m\"\u001b[39m)\n\u001b[0;32m    344\u001b[0m \u001b[39mif\u001b[39;00m x\u001b[39m.\u001b[39mndim \u001b[39m>\u001b[39m \u001b[39m2\u001b[39m \u001b[39mor\u001b[39;00m y\u001b[39m.\u001b[39mndim \u001b[39m>\u001b[39m \u001b[39m2\u001b[39m:\n\u001b[0;32m    345\u001b[0m     \u001b[39mraise\u001b[39;00m \u001b[39mValueError\u001b[39;00m(\u001b[39mf\u001b[39m\u001b[39m\"\u001b[39m\u001b[39mx and y can be no greater than 2-D, but have \u001b[39m\u001b[39m\"\u001b[39m\n\u001b[0;32m    346\u001b[0m                      \u001b[39mf\u001b[39m\u001b[39m\"\u001b[39m\u001b[39mshapes \u001b[39m\u001b[39m{\u001b[39;00mx\u001b[39m.\u001b[39mshape\u001b[39m}\u001b[39;00m\u001b[39m and \u001b[39m\u001b[39m{\u001b[39;00my\u001b[39m.\u001b[39mshape\u001b[39m}\u001b[39;00m\u001b[39m\"\u001b[39m)\n",
      "\u001b[1;31mValueError\u001b[0m: x and y must have same first dimension, but have shapes (100,) and (0,)"
     ]
    },
    {
     "data": {
      "image/png": "[encoded data removed]",
      "text/plain": [
       "<Figure size 640x480 with 1 Axes>"
      ]
     },
     "metadata": {},
     "output_type": "display_data"
    }
   ],
   "source": [
    "import matplotlib.pyplot as plt\n",
    "\n",
    "plt.plot(gamma_vals, b_gamma_vals)\n",
    "plt.fill_between(gamma_vals, CI_lower, CI_upper, alpha=0.2)\n",
    "plt.axhline(y=0, linestyle='--', color='grey')\n",
    "plt.xlabel('Gamma')\n",
    "plt.ylabel('Coefficient on Gamma')\n",
    "plt.title('95% Confidence Intervals for Coefficient on Gamma')\n",
    "plt.show()"
   ]
  },
  {
   "attachments": {},
   "cell_type": "markdown",
   "metadata": {},
   "source": [
    "(3) Further modify the framework so that the covariance of Z and X is equal to a parameter $\\sigma{_X}{_Z})$. Calculate the set B of pairs $(\\gamma{}, \\sigma{_X}{_Z})$ such that one would fail to reject the same null hypothesis at the same level of significance. Discuss."
   ]
  },
  {
   "cell_type": "code",
   "execution_count": 106,
   "metadata": {},
   "outputs": [
    {
     "ename": "ValueError",
     "evalue": "operands could not be broadcast together with shapes (2,2) (1000,) ",
     "output_type": "error",
     "traceback": [
      "\u001b[1;31m---------------------------------------------------------------------------\u001b[0m",
      "\u001b[1;31mValueError\u001b[0m                                Traceback (most recent call last)",
      "Cell \u001b[1;32mIn[106], line 18\u001b[0m\n\u001b[0;32m     16\u001b[0m \u001b[39mfor\u001b[39;00m i, gamma \u001b[39min\u001b[39;00m \u001b[39menumerate\u001b[39m(gamma_vals):\n\u001b[0;32m     17\u001b[0m     \u001b[39mfor\u001b[39;00m j, sigma_XZ \u001b[39min\u001b[39;00m \u001b[39menumerate\u001b[39m(sigma_XZ_vals):\n\u001b[1;32m---> 18\u001b[0m         y, X, Z, _ \u001b[39m=\u001b[39m linear_dgp(\u001b[39m1000\u001b[39;49m, \u001b[39m2\u001b[39;49m, gamma, [[\u001b[39m1\u001b[39;49m, \u001b[39m0.5\u001b[39;49m], [\u001b[39m0.5\u001b[39;49m, \u001b[39m1\u001b[39;49m]], \u001b[39m1\u001b[39;49m, \u001b[39m1\u001b[39;49m, sigma_XZ)\n\u001b[0;32m     19\u001b[0m         b \u001b[39m=\u001b[39m np\u001b[39m.\u001b[39mlinalg\u001b[39m.\u001b[39msolve(Z\u001b[39m.\u001b[39mT \u001b[39m@\u001b[39m X, Z\u001b[39m.\u001b[39mT \u001b[39m@\u001b[39m y)\n\u001b[0;32m     20\u001b[0m         b_gamma \u001b[39m=\u001b[39m b[\u001b[39m1\u001b[39m] \u001b[39m*\u001b[39m gamma\n",
      "Cell \u001b[1;32mIn[106], line 6\u001b[0m, in \u001b[0;36mlinear_dgp\u001b[1;34m(N, beta, gamma, pi, sigma_u, sigma_v, sigma_XZ)\u001b[0m\n\u001b[0;32m      4\u001b[0m v \u001b[39m=\u001b[39m iid\u001b[39m.\u001b[39mnormal(scale\u001b[39m=\u001b[39msigma_v, size\u001b[39m=\u001b[39mN)\n\u001b[0;32m      5\u001b[0m Z \u001b[39m=\u001b[39m iid\u001b[39m.\u001b[39mnormal(size\u001b[39m=\u001b[39mN)\n\u001b[1;32m----> 6\u001b[0m X \u001b[39m=\u001b[39m (pi \u001b[39m+\u001b[39;49m sigma_XZ \u001b[39m*\u001b[39;49m Z)\u001b[39m.\u001b[39mT \u001b[39m@\u001b[39m iid\u001b[39m.\u001b[39mnormal(size\u001b[39m=\u001b[39m(\u001b[39m2\u001b[39m, N))\u001b[39m.\u001b[39mT \u001b[39m+\u001b[39m v\u001b[39m.\u001b[39mreshape(\u001b[39m-\u001b[39m\u001b[39m1\u001b[39m, \u001b[39m1\u001b[39m)\n\u001b[0;32m      7\u001b[0m y \u001b[39m=\u001b[39m (beta \u001b[39m+\u001b[39m gamma \u001b[39m*\u001b[39m X[:, \u001b[39m1\u001b[39m]) \u001b[39m*\u001b[39m X[:, \u001b[39m0\u001b[39m] \u001b[39m+\u001b[39m u\n\u001b[0;32m      8\u001b[0m df \u001b[39m=\u001b[39m pd\u001b[39m.\u001b[39mDataFrame({\u001b[39m'\u001b[39m\u001b[39my\u001b[39m\u001b[39m'\u001b[39m: y, \u001b[39m'\u001b[39m\u001b[39mx\u001b[39m\u001b[39m'\u001b[39m: X[:, \u001b[39m0\u001b[39m], \u001b[39m'\u001b[39m\u001b[39mz\u001b[39m\u001b[39m'\u001b[39m: Z, \u001b[39m'\u001b[39m\u001b[39mConstant\u001b[39m\u001b[39m'\u001b[39m: \u001b[39m1\u001b[39m})\n",
      "\u001b[1;31mValueError\u001b[0m: operands could not be broadcast together with shapes (2,2) (1000,) "
     ]
    }
   ],
   "source": [
    "def linear_dgp(N, beta, gamma, pi, sigma_u, sigma_v, sigma_XZ):\n",
    "    iid = np.random.default_rng(12345)\n",
    "    u = iid.normal(scale=sigma_u, size=N)\n",
    "    v = iid.normal(scale=sigma_v, size=N)\n",
    "    Z = iid.normal(size=N)\n",
    "    X = (pi + sigma_XZ * Z).T @ iid.normal(size=(2, N)).T + v.reshape(-1, 1)\n",
    "    y = (beta + gamma * X[:, 1]) * X[:, 0] + u\n",
    "    df = pd.DataFrame({'y': y, 'x': X[:, 0], 'z': Z, 'Constant': 1})\n",
    "    return y, X, Z, df\n",
    "\n",
    "gamma_vals = np.linspace(0, 2, 21)\n",
    "sigma_XZ_vals = np.linspace(0, 1, 11)\n",
    "alpha = 0.05\n",
    "reject_null = np.zeros((len(gamma_vals), len(sigma_XZ_vals)))\n",
    "\n",
    "for i, gamma in enumerate(gamma_vals):\n",
    "    for j, sigma_XZ in enumerate(sigma_XZ_vals):\n",
    "        y, X, Z, _ = linear_dgp(1000, 2, gamma, [[1, 0.5], [0.5, 1]], 1, 1, sigma_XZ)\n",
    "        b = np.linalg.solve(Z.T @ X, Z.T @ y)\n",
    "        b_gamma = b[1] * gamma\n",
    "        se_b_gamma = np.sqrt(np.diag(np.linalg.inv(X.T @ X) * np.sum(Z**2)))\n",
    "        t_stat = b_gamma / se_b_gamma[1]\n",
    "        p_value = 2 * (1 - stats.norm.cdf(np.abs(t_stat)))\n",
    "        reject_null[i, j] = (p_value < alpha)\n"
   ]
  },
  {
   "cell_type": "code",
   "execution_count": 105,
   "metadata": {},
   "outputs": [
    {
     "data": {
      "image/png": "[encoded data removed]",
      "text/plain": [
       "<Figure size 640x480 with 2 Axes>"
      ]
     },
     "metadata": {},
     "output_type": "display_data"
    }
   ],
   "source": [
    "import matplotlib.pyplot as plt\n",
    "\n",
    "fig, ax = plt.subplots()\n",
    "im = ax.imshow(accept_region.T, extent=[0, 5, -1, 1], origin='lower', cmap='Greys')\n",
    "ax.set_xlabel('gamma')\n",
    "ax.set_ylabel('sigma_XZ')\n",
    "ax.set_title('Accept Region')\n",
    "plt.colorbar(im, ax=ax, orientation='horizontal')\n",
    "plt.show()"
   ]
  }
 ],
 "metadata": {
  "kernelspec": {
   "display_name": "are212",
   "language": "python",
   "name": "python3"
  },
  "language_info": {
   "codemirror_mode": {
    "name": "ipython",
    "version": 3
   },
   "file_extension": ".py",
   "mimetype": "text/x-python",
   "name": "python",
   "nbconvert_exporter": "python",
   "pygments_lexer": "ipython3",
   "version": "3.8.16"
  },
  "orig_nbformat": 4
 },
 "nbformat": 4,
 "nbformat_minor": 2
}
