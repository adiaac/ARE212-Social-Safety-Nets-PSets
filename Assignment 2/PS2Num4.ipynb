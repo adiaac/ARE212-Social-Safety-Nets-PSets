{
 "cells": [
  {
   "cell_type": "markdown",
   "id": "fe4a1e1b-8b5a-483b-8069-e116f04fa560",
   "metadata": {},
   "source": [
    "#Problem Set 2 Number 4: Weak Instruments\n",
    "\n",
    "##Construct a data-generating process"
   ]
  },
  {
   "cell_type": "code",
   "execution_count": 16,
   "id": "c5867c8f-b821-46ee-8a86-2ddab8418c24",
   "metadata": {},
   "outputs": [],
   "source": [
    "#Import packages\n",
    "import numpy as np\n",
    "import pandas as pd\n",
    "import scipy.stats.distributions as iid\n",
    "import matplotlib.pyplot as plt\n",
    "import scipy.stats as stats\n",
    "import matplotlib.pyplot as plt"
   ]
  },
  {
   "cell_type": "code",
   "execution_count": 28,
   "id": "923b490f-3821-4fbd-a74d-14a6605b2a66",
   "metadata": {},
   "outputs": [],
   "source": [
    "# DGP: y, X, z\n",
    "\n",
    "def dgp(N, beta, pi):\n",
    "    '''\n",
    "    Data-generating process\n",
    "    \n",
    "    Inputs\n",
    "    ------\n",
    "    N (int) number of obervations\n",
    "    beta (float) true parameter\n",
    "    pi (lx1 np.array) tur first stage parameter\n",
    " \n",
    "    Returns\n",
    "    -------\n",
    "    y (Nx1 np.array)\n",
    "    x (Nx1 np.array)\n",
    "    Z (Nxl np.array)\n",
    "    '''\n",
    "    \n",
    "    \n",
    "    # infer number of instruments from the size of pi\n",
    "    l = pi.shape[0]\n",
    "    # first generate Z\n",
    "    Z = scipy.stats.multivariate_normal(np.zeros(l), np.eye(l)).rvs(size=N)\n",
    "    if len(Z.shape) == 1:\n",
    "        Z = Z.reshape(-1,1)\n",
    "    \n",
    "    # now build X\n",
    "    X = Z@pi + iid.norm().rvs(size=(N,1))\n",
    "\n",
    "    # finally, build y\n",
    "    y = X*beta + iid.norm().rvs(size=(N,1))\n",
    "    \n",
    "    return y, X, Z"
   ]
  },
  {
   "cell_type": "code",
   "execution_count": 6,
   "id": "0b1ad79c-52fb-4efc-9d29-7602c9515658",
   "metadata": {},
   "outputs": [
    {
     "name": "stdout",
     "output_type": "stream",
     "text": [
      "beta_hat for pi = 1e-05: 3.714\n",
      "beta_hat for pi = 0.001: 2.109\n",
      "beta_hat for pi = 0.1: 2.022\n",
      "beta_hat for pi = 1: 2.094\n",
      "beta_hat for pi = 500: 2.0\n"
     ]
    }
   ],
   "source": [
    "# test IV regression\n",
    "N = 100\n",
    "beta = 2\n",
    "\n",
    "for p in [0.00001, 0.001, 0.1, 1, 500]:\n",
    "    # set pi\n",
    "    pi = np.array([[p]])\n",
    "    # generate data\n",
    "    y, X, Z = dgp(N, beta, pi)\n",
    "    # estimate beta via IV\n",
    "    bhat = np.linalg.solve(Z.T@X, Z.T@y) \n",
    "    # report\n",
    "    print(f'beta_hat for pi = {p}: {bhat.item():.4}')"
   ]
  },
  {
   "cell_type": "markdown",
   "id": "6555677d-cb1f-4e79-af7b-08755da3b9c7",
   "metadata": {},
   "source": [
    "#2) Use the dgp function you've constructed to explore IV (2SLS) estimates of B as a function of pi when l=1 using a Monte Carlo approach, assuming homoskedastic errors.\n",
    "## a) Write a function two_sls which takes as arguments (y; x;Z) and returns two-stage least squares estimates of B and the standard error of the estimate."
   ]
  },
  {
   "cell_type": "code",
   "execution_count": 31,
   "id": "eacf685c-7296-4fd5-9973-52b9cae3d0a5",
   "metadata": {},
   "outputs": [],
   "source": [
    "def two_sls(y, X, Z):\n",
    "    '''\n",
    "    Estimate 2 stage least squares given data on y, X and Z.\n",
    "    \n",
    "    Inputs:\n",
    "    -------\n",
    "    y (Nx1 np.array)\n",
    "    X (Nx1 np.array)\n",
    "    Z (Nxl np.array)\n",
    "    \n",
    "    Returns\n",
    "    -------\n",
    "    beta_hat (kx1 np.array): Estimated coefficients\n",
    "    se_beta_hat (kx1 np.array): Standard errors of the estimated coefficients\n",
    "    '''\n",
    "    xhat = X@np.linalg.solve(Z.T@Z, Z.T@X)\n",
    "    beta_hat = np.linalg.solve(xhat.T@xhat, xhat.T@y)\n",
    "    \n",
    "    #compute the errors\n",
    "    e = y - X @ beta_hat\n",
    "    sigma_hat = np.linalg.inv(xhat.T @ xhat) @ (e.T @ e) / (len(y) - len(beta_hat))\n",
    "    se_beta_hat = np.sqrt(np.diagonal(sigma_hat * np.linalg.inv(xhat.T @ xhat)))\n",
    "    \n",
    "    # 95% confidence interval\n",
    "    t_crit = stats.t.ppf(0.975, df=len(y) - len(beta_hat))  \n",
    "    margin_error = t_crit * se_beta_hat\n",
    "    ci_lower = beta_hat - margin_error\n",
    "    ci_upper = beta_hat + margin_error\n",
    "    ci = np.column_stack((ci_lower, ci_upper))\n",
    "    \n",
    "    return beta_hat, se_beta_hat, ci"
   ]
  },
  {
   "cell_type": "code",
   "execution_count": 32,
   "id": "e3f96ba8-b87c-43a8-8de3-b60bec82bf20",
   "metadata": {},
   "outputs": [
    {
     "data": {
      "text/plain": [
       "(array([[0.00100003]]),\n",
       " array([9.67430841e-13]),\n",
       " array([[0.00100003, 0.00100003]]))"
      ]
     },
     "execution_count": 32,
     "metadata": {},
     "output_type": "execute_result"
    }
   ],
   "source": [
    "# test \n",
    "y, X, Z = dgp(1000, 1, np.array([[1000]]))\n",
    "two_sls(y, X, Z) "
   ]
  },
  {
   "cell_type": "code",
   "execution_count": 22,
   "id": "cb08a83d-226d-453d-ab67-f38a681b02de",
   "metadata": {},
   "outputs": [],
   "source": [
    "# Define two monteCarlo functions: one for beta, one for SE\n",
    "def monteCarloBeta(N, beta, pi):\n",
    "    y, X, Z = dgp(N, beta, pi)\n",
    "    beta_hat, _ = two_sls(y, X, Z)  # we only want beta_hat. \n",
    "    return beta_hat\n",
    "\n",
    "def monteCarloSE(N, beta, pi):\n",
    "    y, X, Z = dgp(N, beta, pi)\n",
    "    se_beta_hat, _ = two_sls(y, X, Z)  # we only want beta_hat. \n",
    "    return se_beta_hat"
   ]
  },
  {
   "cell_type": "markdown",
   "id": "cb56a1bc-3532-4f2d-a989-fad711fabdce",
   "metadata": {},
   "source": [
    "#Taking B = pi = 1, use repeated draws from dgp to check the bias, and precision of the two_sls estimator, as well as the size and power of a t-test of the hypothesis that B = 0. Discuss. Does a 95% confidence interval (based on your 2SLS estimator) correctly cover 95% of your Monte Carlo draws?"
   ]
  },
  {
   "cell_type": "code",
   "execution_count": 23,
   "id": "dd549a9b-729e-4571-8d40-3dc64969f261",
   "metadata": {},
   "outputs": [
    {
     "ename": "ValueError",
     "evalue": "matmul: Input operand 1 has a mismatch in its core dimension 0, with gufunc signature (n?,k),(k,m?)->(n?,m?) (size 1 is different from 100)",
     "output_type": "error",
     "traceback": [
      "\u001b[1;31m---------------------------------------------------------------------------\u001b[0m",
      "\u001b[1;31mValueError\u001b[0m                                Traceback (most recent call last)",
      "Cell \u001b[1;32mIn[27], line 12\u001b[0m\n\u001b[0;32m      8\u001b[0m pi \u001b[38;5;241m=\u001b[39m np\u001b[38;5;241m.\u001b[39marray([[\u001b[38;5;241m1\u001b[39m]])\n\u001b[0;32m     10\u001b[0m \u001b[38;5;28;01mfor\u001b[39;00m N \u001b[38;5;129;01min\u001b[39;00m [\u001b[38;5;241m100\u001b[39m, \u001b[38;5;241m1000\u001b[39m, \u001b[38;5;241m10000\u001b[39m]:\n\u001b[0;32m     11\u001b[0m     \u001b[38;5;66;03m# calculate IV a bunch of times\u001b[39;00m\n\u001b[1;32m---> 12\u001b[0m     beta_hats \u001b[38;5;241m=\u001b[39m [monteCarloBeta(N, beta, pi)\u001b[38;5;241m.\u001b[39mitem() \u001b[38;5;28;01mfor\u001b[39;00m i \u001b[38;5;129;01min\u001b[39;00m \u001b[38;5;28mrange\u001b[39m(\u001b[38;5;241m1000\u001b[39m)] \u001b[38;5;66;03m#needs to be modified to only return out the betas. right now monteCarlo produces both beta hat and se hat. we still need se hat \u001b[39;00m\n\u001b[0;32m     13\u001b[0m     \u001b[38;5;66;03m# plot\u001b[39;00m\n\u001b[0;32m     14\u001b[0m     ax[counter]\u001b[38;5;241m.\u001b[39mhist(beta_hats)\n",
      "Cell \u001b[1;32mIn[27], line 12\u001b[0m, in \u001b[0;36m<listcomp>\u001b[1;34m(.0)\u001b[0m\n\u001b[0;32m      8\u001b[0m pi \u001b[38;5;241m=\u001b[39m np\u001b[38;5;241m.\u001b[39marray([[\u001b[38;5;241m1\u001b[39m]])\n\u001b[0;32m     10\u001b[0m \u001b[38;5;28;01mfor\u001b[39;00m N \u001b[38;5;129;01min\u001b[39;00m [\u001b[38;5;241m100\u001b[39m, \u001b[38;5;241m1000\u001b[39m, \u001b[38;5;241m10000\u001b[39m]:\n\u001b[0;32m     11\u001b[0m     \u001b[38;5;66;03m# calculate IV a bunch of times\u001b[39;00m\n\u001b[1;32m---> 12\u001b[0m     beta_hats \u001b[38;5;241m=\u001b[39m [\u001b[43mmonteCarloBeta\u001b[49m\u001b[43m(\u001b[49m\u001b[43mN\u001b[49m\u001b[43m,\u001b[49m\u001b[43m \u001b[49m\u001b[43mbeta\u001b[49m\u001b[43m,\u001b[49m\u001b[43m \u001b[49m\u001b[43mpi\u001b[49m\u001b[43m)\u001b[49m\u001b[38;5;241m.\u001b[39mitem() \u001b[38;5;28;01mfor\u001b[39;00m i \u001b[38;5;129;01min\u001b[39;00m \u001b[38;5;28mrange\u001b[39m(\u001b[38;5;241m1000\u001b[39m)] \u001b[38;5;66;03m#needs to be modified to only return out the betas. right now monteCarlo produces both beta hat and se hat. we still need se hat \u001b[39;00m\n\u001b[0;32m     13\u001b[0m     \u001b[38;5;66;03m# plot\u001b[39;00m\n\u001b[0;32m     14\u001b[0m     ax[counter]\u001b[38;5;241m.\u001b[39mhist(beta_hats)\n",
      "Cell \u001b[1;32mIn[26], line 3\u001b[0m, in \u001b[0;36mmonteCarloBeta\u001b[1;34m(N, beta, pi)\u001b[0m\n\u001b[0;32m      2\u001b[0m \u001b[38;5;28;01mdef\u001b[39;00m \u001b[38;5;21mmonteCarloBeta\u001b[39m(N, beta, pi):\n\u001b[1;32m----> 3\u001b[0m     y, X, Z \u001b[38;5;241m=\u001b[39m \u001b[43mdgp\u001b[49m\u001b[43m(\u001b[49m\u001b[43mN\u001b[49m\u001b[43m,\u001b[49m\u001b[43m \u001b[49m\u001b[43mbeta\u001b[49m\u001b[43m,\u001b[49m\u001b[43m \u001b[49m\u001b[43mpi\u001b[49m\u001b[43m)\u001b[49m\n\u001b[0;32m      4\u001b[0m     beta_hat, _ \u001b[38;5;241m=\u001b[39m two_sls(y, X, Z)  \u001b[38;5;66;03m# we only want beta_hat. \u001b[39;00m\n\u001b[0;32m      5\u001b[0m     \u001b[38;5;28;01mreturn\u001b[39;00m beta_hat\n",
      "Cell \u001b[1;32mIn[17], line 29\u001b[0m, in \u001b[0;36mdgp\u001b[1;34m(N, beta, pi)\u001b[0m\n\u001b[0;32m     26\u001b[0m Z \u001b[38;5;241m=\u001b[39m stats\u001b[38;5;241m.\u001b[39mmultivariate_normal(np\u001b[38;5;241m.\u001b[39mzeros(l), np\u001b[38;5;241m.\u001b[39meye(l))\u001b[38;5;241m.\u001b[39mrvs(size\u001b[38;5;241m=\u001b[39mN)\n\u001b[0;32m     28\u001b[0m \u001b[38;5;66;03m# generate X - replace with pi_l\u001b[39;00m\n\u001b[1;32m---> 29\u001b[0m X \u001b[38;5;241m=\u001b[39m \u001b[43mZ\u001b[49m\u001b[43m \u001b[49m\u001b[38;5;241;43m@\u001b[39;49m\u001b[43m \u001b[49m\u001b[43mpi_l\u001b[49m \u001b[38;5;241m+\u001b[39m stats\u001b[38;5;241m.\u001b[39mnorm()\u001b[38;5;241m.\u001b[39mrvs(size\u001b[38;5;241m=\u001b[39m(N,\u001b[38;5;241m1\u001b[39m))\n\u001b[0;32m     31\u001b[0m \u001b[38;5;66;03m# generate y\u001b[39;00m\n\u001b[0;32m     32\u001b[0m y \u001b[38;5;241m=\u001b[39m X \u001b[38;5;241m*\u001b[39m beta \u001b[38;5;241m+\u001b[39m stats\u001b[38;5;241m.\u001b[39mnorm()\u001b[38;5;241m.\u001b[39mrvs(size\u001b[38;5;241m=\u001b[39m(N,\u001b[38;5;241m1\u001b[39m))\n",
      "\u001b[1;31mValueError\u001b[0m: matmul: Input operand 1 has a mismatch in its core dimension 0, with gufunc signature (n?,k),(k,m?)->(n?,m?) (size 1 is different from 100)"
     ]
    },
    {
     "data": {
      "image/png": "[encoded data removed]",
      "text/plain": [
       "<Figure size 640x480 with 3 Axes>"
      ]
     },
     "metadata": {},
     "output_type": "display_data"
    }
   ],
   "source": [
    "mylist = [i for i in range(100)]\n",
    "\n",
    "counter = 0 # first axis starts at 0\n",
    "fig, ax = plt.subplots(1, 3) # initialize 3 subplots\n",
    "\n",
    "# set global parameters for DGP\n",
    "beta = 1\n",
    "pi = np.array([[1]])\n",
    "\n",
    "for N in [100, 1000, 10000]:\n",
    "    # calculate IV a bunch of times\n",
    "    beta_hats = [monteCarloBeta(N, beta, pi).item() for i in range(1000)] #needs to be modified to only return out the betas. right now monteCarlo produces both beta hat and se hat. we still need se hat \n",
    "    # plot\n",
    "    ax[counter].hist(beta_hats)\n",
    "    ax[counter].set_title(f\"N = {N}\")\n",
    "    ax[counter].axvline(x=1, color='r', label='True beta')\n",
    "    \n",
    "    #not sure yet how to integrate the part about 95% CI - it's in the code above, though\n",
    "\n",
    "    # advance counter\n",
    "    counter = counter + 1"
   ]
  },
  {
   "cell_type": "code",
   "execution_count": 11,
   "id": "2f477b58-73de-4df8-8205-17f4cb2ced18",
   "metadata": {},
   "outputs": [],
   "source": [
    "#Problem 2.C"
   ]
  },
  {
   "cell_type": "code",
   "execution_count": 17,
   "id": "f7bfdc4c-4289-4afa-a244-33a8b986e290",
   "metadata": {},
   "outputs": [
    {
     "ename": "ValueError",
     "evalue": "matmul: Input operand 1 has a mismatch in its core dimension 0, with gufunc signature (n?,k),(k,m?)->(n?,m?) (size 1 is different from 5)",
     "output_type": "error",
     "traceback": [
      "\u001b[1;31m---------------------------------------------------------------------------\u001b[0m",
      "\u001b[1;31mValueError\u001b[0m                                Traceback (most recent call last)",
      "Cell \u001b[1;32mIn[17], line 39\u001b[0m\n\u001b[0;32m     37\u001b[0m beta \u001b[38;5;241m=\u001b[39m \u001b[38;5;241m2\u001b[39m\n\u001b[0;32m     38\u001b[0m pi \u001b[38;5;241m=\u001b[39m np\u001b[38;5;241m.\u001b[39marray([[\u001b[38;5;241m1\u001b[39m, \u001b[38;5;241m2\u001b[39m]])\n\u001b[1;32m---> 39\u001b[0m \u001b[43mdgp\u001b[49m\u001b[43m(\u001b[49m\u001b[43mN\u001b[49m\u001b[43m,\u001b[49m\u001b[43m \u001b[49m\u001b[43mbeta\u001b[49m\u001b[43m,\u001b[49m\u001b[43m \u001b[49m\u001b[43mpi\u001b[49m\u001b[43m)\u001b[49m\n",
      "Cell \u001b[1;32mIn[17], line 29\u001b[0m, in \u001b[0;36mdgp\u001b[1;34m(N, beta, pi)\u001b[0m\n\u001b[0;32m     26\u001b[0m Z \u001b[38;5;241m=\u001b[39m stats\u001b[38;5;241m.\u001b[39mmultivariate_normal(np\u001b[38;5;241m.\u001b[39mzeros(l), np\u001b[38;5;241m.\u001b[39meye(l))\u001b[38;5;241m.\u001b[39mrvs(size\u001b[38;5;241m=\u001b[39mN)\n\u001b[0;32m     28\u001b[0m \u001b[38;5;66;03m# generate X - replace with pi_l\u001b[39;00m\n\u001b[1;32m---> 29\u001b[0m X \u001b[38;5;241m=\u001b[39m \u001b[43mZ\u001b[49m\u001b[43m \u001b[49m\u001b[38;5;241;43m@\u001b[39;49m\u001b[43m \u001b[49m\u001b[43mpi_l\u001b[49m \u001b[38;5;241m+\u001b[39m stats\u001b[38;5;241m.\u001b[39mnorm()\u001b[38;5;241m.\u001b[39mrvs(size\u001b[38;5;241m=\u001b[39m(N,\u001b[38;5;241m1\u001b[39m))\n\u001b[0;32m     31\u001b[0m \u001b[38;5;66;03m# generate y\u001b[39;00m\n\u001b[0;32m     32\u001b[0m y \u001b[38;5;241m=\u001b[39m X \u001b[38;5;241m*\u001b[39m beta \u001b[38;5;241m+\u001b[39m stats\u001b[38;5;241m.\u001b[39mnorm()\u001b[38;5;241m.\u001b[39mrvs(size\u001b[38;5;241m=\u001b[39m(N,\u001b[38;5;241m1\u001b[39m))\n",
      "\u001b[1;31mValueError\u001b[0m: matmul: Input operand 1 has a mismatch in its core dimension 0, with gufunc signature (n?,k),(k,m?)->(n?,m?) (size 1 is different from 5)"
     ]
    }
   ],
   "source": [
    "#Q3\n",
    "#Alter DGP to now return Z as an n x l matrix with successive columns of Z increasingly \"weak\" instruments\n",
    "def dgp_weak(N, beta, pi):\n",
    "    '''\n",
    "    Data-generating process\n",
    "    \n",
    "    Inputs\n",
    "    ------\n",
    "    N (int) number of obervations\n",
    "    beta (float) true parameter\n",
    "    pi (lx1 np.array) tur first stage parameter\n",
    " \n",
    "    Returns\n",
    "    -------\n",
    "    y (Nx1 np.array)\n",
    "    x (Nx1 np.array)\n",
    "    Z (Nxl np.array)\n",
    "    '''\n",
    "     # infer number of instruments from the size of pi-l\n",
    "    l = pi.shape[0]\n",
    "    \n",
    "    #we use pi_l for the sequence where successive numbers are half the preceding value\n",
    "    pi_l = np.array([1 / (2**i) for i in range(1, l+1)]) #issue here- breaks\n",
    "    \n",
    "    # generate Z\n",
    "    Z = stats.multivariate_normal(np.zeros(l), np.eye(l)).rvs(size=N)\n",
    "    \n",
    "    # generate X - replace with pi_l\n",
    "    X = Z @ pi_l + stats.norm().rvs(size=(N,1))\n",
    "    \n",
    "    # generate y\n",
    "    y = X * beta + stats.norm().rvs(size=(N,1))\n",
    "    \n",
    "    return y, X, Z\n",
    "\n",
    "N = 5\n",
    "beta = 2\n",
    "pi = np.array([[1, 2]])\n",
    "dgp(N, beta, pi)"
   ]
  },
  {
   "cell_type": "code",
   "execution_count": null,
   "id": "a5397f1e-2761-42a0-b92e-a0865037d7ea",
   "metadata": {},
   "outputs": [],
   "source": [
    "#3a\n"
   ]
  },
  {
   "cell_type": "code",
   "execution_count": null,
   "id": "88712d45-6f99-45b2-9760-13e6c7b21cad",
   "metadata": {},
   "outputs": [],
   "source": [
    "#3b"
   ]
  },
  {
   "cell_type": "code",
   "execution_count": null,
   "id": "ab7ceca6-bf64-4e9b-a783-3f92ecf6565b",
   "metadata": {},
   "outputs": [],
   "source": []
  }
 ],
 "metadata": {
  "kernelspec": {
   "display_name": "Python 3 (ipykernel)",
   "language": "python",
   "name": "python3"
  },
  "language_info": {
   "codemirror_mode": {
    "name": "ipython",
    "version": 3
   },
   "file_extension": ".py",
   "mimetype": "text/x-python",
   "name": "python",
   "nbconvert_exporter": "python",
   "pygments_lexer": "ipython3",
   "version": "3.10.9"
  }
 },
 "nbformat": 4,
 "nbformat_minor": 5
}
